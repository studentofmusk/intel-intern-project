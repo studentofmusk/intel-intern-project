{
 "cells": [
  {
   "cell_type": "code",
   "execution_count": 8,
   "id": "9d1ecb7c-0d4a-42c7-b820-b40566430054",
   "metadata": {},
   "outputs": [],
   "source": [
    "import pandas as pd\n",
    "import numpy as np\n",
    "from faker import Faker"
   ]
  },
  {
   "cell_type": "code",
   "execution_count": null,
   "id": "fe6ea605-e74b-40e7-9d75-cd8c56502c64",
   "metadata": {},
   "outputs": [],
   "source": [
    "classes = {\n",
    "    0: \"Services Provided\", \n",
    "    1: \"Payment\", \n",
    "    2: \"Term\", \n",
    "    3: \"Confidentiality\", \n",
    "    4: \"Termination\", \n",
    "    5: \"Governing Law\", \n",
    "    6: \"Signatures\"\n",
    "}"
   ]
  },
  {
   "cell_type": "code",
   "execution_count": 12,
   "id": "1d7433b2-d1f6-4ad1-9468-6d93189f94ee",
   "metadata": {},
   "outputs": [],
   "source": [
    "fake: Faker = Faker()\n",
    "\n",
    "# Creating Contract Text using Faker \n",
    "def generate_contract_text() -> str:\n",
    "    # generate random details\n",
    "    service_provider_name = fake.company()\n",
    "    client_name = fake.company()\n",
    "    amount = fake.random_number(digits=5)\n",
    "    start_date = fake.date_this_year()\n",
    "    end_date = fake.date_this_year()\n",
    "    state = fake.state()\n",
    "    notice_days = fake.random_int(min=30, max=90)\n",
    "\n",
    "    # Contract text template\n",
    "    datasets =[\n",
    "        [f\"{service_provider_name} agrees to provide the following services to {client_name}. services are service1 service2, service3.\", 0],\n",
    "        [f\"{client_name} agrees to pay {service_provider_name} the amount of ${amount} for the services described above. Payment shall be made within {notice_days} days of receiving an invoice from {service_provider_name}.\", 1],\n",
    "        [f\"This contract will commence on {start_date} and will continue until {end_date} unless terminated earlier in accordance with the Termination clause.\", 2],\n",
    "        [f\"Both parties agree to maintain the confidentiality of any proprietary or confidential information disclosed during the term of this contract. This obligation will continue beyond the termination of this contract.\", 3],\n",
    "        [f\"Either party may terminate this contract with {notice_days} days written notice to the other party. In the event of termination, {service_provider_name} will be compensated for all services performed up to the date of termination.\", 4],\n",
    "        [f\"This contract shall be governed by and construed in accordance with the laws of the State of {state}.\", 5],\n",
    "        [f\"{service_provider_name}\", 6],\n",
    "        [f\"{client_name}\", 6]\n",
    "    ]\n",
    "\n",
    "    return pd.DataFrame(datasets)"
   ]
  },
  {
   "cell_type": "code",
   "execution_count": 14,
   "id": "994fb9e6-4171-4206-84f5-9b52084f6065",
   "metadata": {},
   "outputs": [],
   "source": [
    "df = generate_contract_text()"
   ]
  },
  {
   "cell_type": "code",
   "execution_count": 15,
   "id": "2ac1a6b0-f839-45a5-8547-045063981e88",
   "metadata": {},
   "outputs": [],
   "source": [
    "df1 = generate_contract_text()"
   ]
  },
  {
   "cell_type": "code",
   "execution_count": 21,
   "id": "ea4fc511-23d7-4b35-8a9f-a78f6497add2",
   "metadata": {},
   "outputs": [
    {
     "ename": "TypeError",
     "evalue": "concat() got an unexpected keyword argument 'index'",
     "output_type": "error",
     "traceback": [
      "\u001b[1;31m---------------------------------------------------------------------------\u001b[0m",
      "\u001b[1;31mTypeError\u001b[0m                                 Traceback (most recent call last)",
      "Cell \u001b[1;32mIn[21], line 1\u001b[0m\n\u001b[1;32m----> 1\u001b[0m \u001b[43mpd\u001b[49m\u001b[38;5;241;43m.\u001b[39;49m\u001b[43mconcat\u001b[49m\u001b[43m(\u001b[49m\u001b[43m[\u001b[49m\u001b[43mdf\u001b[49m\u001b[43m,\u001b[49m\u001b[43m \u001b[49m\u001b[43mdf1\u001b[49m\u001b[43m]\u001b[49m\u001b[43m,\u001b[49m\u001b[43m \u001b[49m\u001b[43mindex\u001b[49m\u001b[38;5;241;43m=\u001b[39;49m\u001b[38;5;28;43;01mFalse\u001b[39;49;00m\u001b[43m)\u001b[49m\n",
      "\u001b[1;31mTypeError\u001b[0m: concat() got an unexpected keyword argument 'index'"
     ]
    }
   ],
   "source": [
    "pd.concat([df, df1])"
   ]
  },
  {
   "cell_type": "code",
   "execution_count": null,
   "id": "d6cc90e2-5d30-40dd-a31f-36926a350bab",
   "metadata": {},
   "outputs": [],
   "source": []
  },
  {
   "cell_type": "code",
   "execution_count": 4,
   "id": "3f2f949d-949f-4dca-b252-2eba4ca8cf39",
   "metadata": {},
   "outputs": [
    {
     "data": {
      "text/plain": [
       "[2, 4, 6, 8, 10]"
      ]
     },
     "execution_count": 4,
     "metadata": {},
     "output_type": "execute_result"
    }
   ],
   "source": []
  },
  {
   "cell_type": "code",
   "execution_count": null,
   "id": "0392e23f-b5ef-4bdb-b7d4-3ecb53f85bcf",
   "metadata": {},
   "outputs": [],
   "source": [
    "import fitz  # PyMuPDF\n",
    "import re\n",
    "from transformers import pipeline\n",
    "\n",
    "# Load the document\n",
    "document_path = 'pdf'\n",
    "doc = fitz.open(document_path)\n",
    "\n",
    "# Extract text from PDF\n",
    "def extract_text(doc):\n",
    "    text = \"\"\n",
    "    for page_num in range(len(doc)):\n",
    "        page = doc.load_page(page_num)\n",
    "        text += page.get_text()\n",
    "    return text\n",
    "\n",
    "# Parse the text into clauses and sub-clauses\n",
    "def parse_clauses(text):\n",
    "    clauses = re.split(r'\\b\\d+\\.\\s', text)[1:]  # Splitting by numbered headings\n",
    "    parsed_clauses = {}\n",
    "    for i, clause in enumerate(clauses, start=1):\n",
    "        sub_clauses = re.split(r'\\b[a-z]\\)\\s', clause)  # Splitting sub-clauses\n",
    "        parsed_clauses[f'Clause {i}'] = sub_clauses\n",
    "    return parsed_clauses\n",
    "\n",
    "# Classify the content using a pre-trained text classification model\n",
    "def classify_clauses(parsed_clauses):\n",
    "    classifier = pipeline(\"zero-shot-classification\", model=\"facebook/bart-large-mnli\")\n",
    "    labels = [\"Services Provided\", \"Payment\", \"Term\", \"Confidentiality\", \"Termination\", \"Governing Law\", \"Signatures\"]\n",
    "    \n",
    "    classified_clauses = {}\n",
    "    for clause, sub_clauses in parsed_clauses.items():\n",
    "        classified_clauses[clause] = []\n",
    "        for sub_clause in sub_clauses:\n",
    "            result = classifier(sub_clause, candidate_labels=labels)\n",
    "            classified_clauses[clause].append((sub_clause, result['labels'][0]))\n",
    "    return classified_clauses\n",
    "\n",
    "# Main script execution\n",
    "text = extract_text(doc)\n",
    "parsed_clauses = parse_clauses(text)\n",
    "classified_clauses = classify_clauses(parsed_clauses)\n",
    "\n",
    "# Print the parsed and classified clauses\n",
    "for clause, sub_clauses in classified_clauses.items():\n",
    "    print(f\"{clause}:\")\n",
    "    for sub_clause, classification in sub_clauses:\n",
    "        print(f\"  {classification}: {sub_clause}\")\n",
    "\n"
   ]
  }
 ],
 "metadata": {
  "kernelspec": {
   "display_name": "Python 3 (ipykernel)",
   "language": "python",
   "name": "python3"
  },
  "language_info": {
   "codemirror_mode": {
    "name": "ipython",
    "version": 3
   },
   "file_extension": ".py",
   "mimetype": "text/x-python",
   "name": "python",
   "nbconvert_exporter": "python",
   "pygments_lexer": "ipython3",
   "version": "3.12.3"
  }
 },
 "nbformat": 4,
 "nbformat_minor": 5
}
