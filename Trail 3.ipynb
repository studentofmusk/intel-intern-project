{
 "cells": [
  {
   "cell_type": "code",
   "execution_count": null,
   "id": "0392e23f-b5ef-4bdb-b7d4-3ecb53f85bcf",
   "metadata": {},
   "outputs": [],
   "source": [
    "import fitz  # PyMuPDF\n",
    "import re\n",
    "from transformers import pipeline\n",
    "\n",
    "# Load the document\n",
    "document_path = 'pdf'\n",
    "doc = fitz.open(document_path)\n",
    "\n",
    "# Extract text from PDF\n",
    "def extract_text(doc):\n",
    "    text = \"\"\n",
    "    for page_num in range(len(doc)):\n",
    "        page = doc.load_page(page_num)\n",
    "        text += page.get_text()\n",
    "    return text\n",
    "\n",
    "# Parse the text into clauses and sub-clauses\n",
    "def parse_clauses(text):\n",
    "    clauses = re.split(r'\\b\\d+\\.\\s', text)[1:]  # Splitting by numbered headings\n",
    "    parsed_clauses = {}\n",
    "    for i, clause in enumerate(clauses, start=1):\n",
    "        sub_clauses = re.split(r'\\b[a-z]\\)\\s', clause)  # Splitting sub-clauses\n",
    "        parsed_clauses[f'Clause {i}'] = sub_clauses\n",
    "    return parsed_clauses\n",
    "\n",
    "# Classify the content using a pre-trained text classification model\n",
    "def classify_clauses(parsed_clauses):\n",
    "    classifier = pipeline(\"zero-shot-classification\", model=\"facebook/bart-large-mnli\")\n",
    "    labels = [\"Services Provided\", \"Payment\", \"Term\", \"Confidentiality\", \"Termination\", \"Governing Law\", \"Signatures\"]\n",
    "    \n",
    "    classified_clauses = {}\n",
    "    for clause, sub_clauses in parsed_clauses.items():\n",
    "        classified_clauses[clause] = []\n",
    "        for sub_clause in sub_clauses:\n",
    "            result = classifier(sub_clause, candidate_labels=labels)\n",
    "            classified_clauses[clause].append((sub_clause, result['labels'][0]))\n",
    "    return classified_clauses\n",
    "\n",
    "# Main script execution\n",
    "text = extract_text(doc)\n",
    "parsed_clauses = parse_clauses(text)\n",
    "classified_clauses = classify_clauses(parsed_clauses)\n",
    "\n",
    "# Print the parsed and classified clauses\n",
    "for clause, sub_clauses in classified_clauses.items():\n",
    "    print(f\"{clause}:\")\n",
    "    for sub_clause, classification in sub_clauses:\n",
    "        print(f\"  {classification}: {sub_clause}\")\n",
    "\n"
   ]
  }
 ],
 "metadata": {
  "kernelspec": {
   "display_name": "Python 3 (ipykernel)",
   "language": "python",
   "name": "python3"
  },
  "language_info": {
   "codemirror_mode": {
    "name": "ipython",
    "version": 3
   },
   "file_extension": ".py",
   "mimetype": "text/x-python",
   "name": "python",
   "nbconvert_exporter": "python",
   "pygments_lexer": "ipython3",
   "version": "3.12.3"
  }
 },
 "nbformat": 4,
 "nbformat_minor": 5
}
