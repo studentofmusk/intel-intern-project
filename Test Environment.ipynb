{
 "cells": [
  {
   "cell_type": "markdown",
   "id": "390f2b24-7cb9-4604-bbfb-a0bbfde77af8",
   "metadata": {},
   "source": [
    "# Step 2: Dataset Generation"
   ]
  },
  {
   "cell_type": "code",
   "execution_count": 1,
   "id": "9d1ecb7c-0d4a-42c7-b820-b40566430054",
   "metadata": {},
   "outputs": [],
   "source": [
    "import pandas as pd\n",
    "from faker import Faker"
   ]
  },
  {
   "cell_type": "code",
   "execution_count": 2,
   "id": "fe6ea605-e74b-40e7-9d75-cd8c56502c64",
   "metadata": {},
   "outputs": [],
   "source": [
    "classes = {\n",
    "    0: \"Services Provided\", \n",
    "    1: \"Payment\", \n",
    "    2: \"Term\", \n",
    "    3: \"Confidentiality\", \n",
    "    4: \"Termination\", \n",
    "    5: \"Governing Law\", \n",
    "    6: \"Signatures\"\n",
    "}"
   ]
  },
  {
   "cell_type": "code",
   "execution_count": 3,
   "id": "1d7433b2-d1f6-4ad1-9468-6d93189f94ee",
   "metadata": {},
   "outputs": [],
   "source": [
    "fake: Faker = Faker()\n",
    "\n",
    "# Creating Contract Text using Faker \n",
    "def generate_contract_text() -> str:\n",
    "    # generate random details\n",
    "    service_provider_name = fake.company()\n",
    "    client_name = fake.company()\n",
    "    amount = fake.random_number(digits=5)\n",
    "    start_date = fake.date_this_year()\n",
    "    end_date = fake.date_this_year()\n",
    "    state = fake.state()\n",
    "    notice_days = fake.random_int(min=30, max=90)\n",
    "\n",
    "    # Contract text template\n",
    "    datasets =[\n",
    "        [f\"{service_provider_name} agrees to provide the following services to {client_name}. services are service1 service2, service3.\", 0],\n",
    "        [f\"{client_name} agrees to pay {service_provider_name} the amount of ${amount} for the services described above. Payment shall be made within {notice_days} days of receiving an invoice from {service_provider_name}.\", 1],\n",
    "        [f\"This contract will commence on {start_date} and will continue until {end_date} unless terminated earlier in accordance with the Termination clause.\", 2],\n",
    "        [f\"Both parties agree to maintain the confidentiality of any proprietary or confidential information disclosed during the term of this contract. This obligation will continue beyond the termination of this contract.\", 3],\n",
    "        [f\"Either party may terminate this contract with {notice_days} days written notice to the other party. In the event of termination, {service_provider_name} will be compensated for all services performed up to the date of termination.\", 4],\n",
    "        [f\"This contract shall be governed by and construed in accordance with the laws of the State of {state}.\", 5],\n",
    "        [f\"{service_provider_name}\", 6],\n",
    "        [f\"{client_name}\", 6]\n",
    "    ]\n",
    "\n",
    "    return pd.DataFrame(datasets)"
   ]
  },
  {
   "cell_type": "code",
   "execution_count": 4,
   "id": "994fb9e6-4171-4206-84f5-9b52084f6065",
   "metadata": {},
   "outputs": [],
   "source": [
    "df = generate_contract_text()"
   ]
  },
  {
   "cell_type": "code",
   "execution_count": 6,
   "id": "423b3b62-5875-4549-b730-7814882116c0",
   "metadata": {},
   "outputs": [
    {
     "data": {
      "text/html": [
       "<div>\n",
       "<style scoped>\n",
       "    .dataframe tbody tr th:only-of-type {\n",
       "        vertical-align: middle;\n",
       "    }\n",
       "\n",
       "    .dataframe tbody tr th {\n",
       "        vertical-align: top;\n",
       "    }\n",
       "\n",
       "    .dataframe thead th {\n",
       "        text-align: right;\n",
       "    }\n",
       "</style>\n",
       "<table border=\"1\" class=\"dataframe\">\n",
       "  <thead>\n",
       "    <tr style=\"text-align: right;\">\n",
       "      <th></th>\n",
       "      <th>0</th>\n",
       "      <th>1</th>\n",
       "    </tr>\n",
       "  </thead>\n",
       "  <tbody>\n",
       "    <tr>\n",
       "      <th>0</th>\n",
       "      <td>Parker-Clarke agrees to provide the following ...</td>\n",
       "      <td>0</td>\n",
       "    </tr>\n",
       "    <tr>\n",
       "      <th>1</th>\n",
       "      <td>Williams-Lindsey agrees to pay Parker-Clarke t...</td>\n",
       "      <td>1</td>\n",
       "    </tr>\n",
       "    <tr>\n",
       "      <th>2</th>\n",
       "      <td>This contract will commence on 2024-04-01 and ...</td>\n",
       "      <td>2</td>\n",
       "    </tr>\n",
       "    <tr>\n",
       "      <th>3</th>\n",
       "      <td>Both parties agree to maintain the confidentia...</td>\n",
       "      <td>3</td>\n",
       "    </tr>\n",
       "    <tr>\n",
       "      <th>4</th>\n",
       "      <td>Either party may terminate this contract with ...</td>\n",
       "      <td>4</td>\n",
       "    </tr>\n",
       "  </tbody>\n",
       "</table>\n",
       "</div>"
      ],
      "text/plain": [
       "                                                   0  1\n",
       "0  Parker-Clarke agrees to provide the following ...  0\n",
       "1  Williams-Lindsey agrees to pay Parker-Clarke t...  1\n",
       "2  This contract will commence on 2024-04-01 and ...  2\n",
       "3  Both parties agree to maintain the confidentia...  3\n",
       "4  Either party may terminate this contract with ...  4"
      ]
     },
     "execution_count": 6,
     "metadata": {},
     "output_type": "execute_result"
    }
   ],
   "source": [
    "df.head()"
   ]
  },
  {
   "cell_type": "code",
   "execution_count": 15,
   "id": "2ac1a6b0-f839-45a5-8547-045063981e88",
   "metadata": {},
   "outputs": [],
   "source": [
    "df1 = generate_contract_text()"
   ]
  },
  {
   "cell_type": "code",
   "execution_count": 30,
   "id": "ea4fc511-23d7-4b35-8a9f-a78f6497add2",
   "metadata": {},
   "outputs": [],
   "source": [
    "all_df = []\n",
    "for i in range(10):\n",
    "    all_df.append(generate_contract_text())\n",
    "df_concat = pd.concat(all_df)\n",
    "df_concat.columns = [\"features\", \"label\"]\n",
    "df_concat.to_csv(\"test.csv\", index=False)"
   ]
  },
  {
   "cell_type": "markdown",
   "id": "782d859a-0192-44c6-b54d-d3b7802c2103",
   "metadata": {},
   "source": [
    "# Step 3: Fine Tune The Bert Model to classify Clauses"
   ]
  },
  {
   "cell_type": "code",
   "execution_count": 17,
   "id": "9eb982b1-898b-4abf-933f-aa0dc7c10263",
   "metadata": {},
   "outputs": [
    {
     "data": {
      "text/html": [
       "<div>\n",
       "<style scoped>\n",
       "    .dataframe tbody tr th:only-of-type {\n",
       "        vertical-align: middle;\n",
       "    }\n",
       "\n",
       "    .dataframe tbody tr th {\n",
       "        vertical-align: top;\n",
       "    }\n",
       "\n",
       "    .dataframe thead th {\n",
       "        text-align: right;\n",
       "    }\n",
       "</style>\n",
       "<table border=\"1\" class=\"dataframe\">\n",
       "  <thead>\n",
       "    <tr style=\"text-align: right;\">\n",
       "      <th></th>\n",
       "      <th>features</th>\n",
       "      <th>label</th>\n",
       "    </tr>\n",
       "  </thead>\n",
       "  <tbody>\n",
       "    <tr>\n",
       "      <th>0</th>\n",
       "      <td>Lozano-Ellis agrees to provide the following s...</td>\n",
       "      <td>0</td>\n",
       "    </tr>\n",
       "    <tr>\n",
       "      <th>1</th>\n",
       "      <td>Day, Morrison and Vega agrees to pay Lozano-El...</td>\n",
       "      <td>1</td>\n",
       "    </tr>\n",
       "    <tr>\n",
       "      <th>2</th>\n",
       "      <td>This contract will commence on 2024-06-08 and ...</td>\n",
       "      <td>2</td>\n",
       "    </tr>\n",
       "    <tr>\n",
       "      <th>3</th>\n",
       "      <td>Both parties agree to maintain the confidentia...</td>\n",
       "      <td>3</td>\n",
       "    </tr>\n",
       "    <tr>\n",
       "      <th>4</th>\n",
       "      <td>Either party may terminate this contract with ...</td>\n",
       "      <td>4</td>\n",
       "    </tr>\n",
       "  </tbody>\n",
       "</table>\n",
       "</div>"
      ],
      "text/plain": [
       "                                            features  label\n",
       "0  Lozano-Ellis agrees to provide the following s...      0\n",
       "1  Day, Morrison and Vega agrees to pay Lozano-El...      1\n",
       "2  This contract will commence on 2024-06-08 and ...      2\n",
       "3  Both parties agree to maintain the confidentia...      3\n",
       "4  Either party may terminate this contract with ...      4"
      ]
     },
     "execution_count": 17,
     "metadata": {},
     "output_type": "execute_result"
    }
   ],
   "source": [
    "import pandas as pd \n",
    "from sklearn.model_selection import train_test_split\n",
    "\n",
    "# Read the dataset\n",
    "df = pd.read_csv(\"data/train.csv\")\n",
    "df.head()"
   ]
  },
  {
   "cell_type": "code",
   "execution_count": 2,
   "id": "6787ba82-111b-45fb-8ab2-cf1b39c0b483",
   "metadata": {},
   "outputs": [
    {
     "data": {
      "text/plain": [
       "(400, 2)"
      ]
     },
     "execution_count": 2,
     "metadata": {},
     "output_type": "execute_result"
    }
   ],
   "source": [
    "df.shape"
   ]
  },
  {
   "cell_type": "code",
   "execution_count": 3,
   "id": "655d32c6-d543-4b6f-be9a-bfe622f2361c",
   "metadata": {},
   "outputs": [
    {
     "data": {
      "text/html": [
       "<div>\n",
       "<style scoped>\n",
       "    .dataframe tbody tr th:only-of-type {\n",
       "        vertical-align: middle;\n",
       "    }\n",
       "\n",
       "    .dataframe tbody tr th {\n",
       "        vertical-align: top;\n",
       "    }\n",
       "\n",
       "    .dataframe thead th {\n",
       "        text-align: right;\n",
       "    }\n",
       "</style>\n",
       "<table border=\"1\" class=\"dataframe\">\n",
       "  <thead>\n",
       "    <tr style=\"text-align: right;\">\n",
       "      <th></th>\n",
       "      <th>features</th>\n",
       "      <th>label</th>\n",
       "    </tr>\n",
       "  </thead>\n",
       "  <tbody>\n",
       "    <tr>\n",
       "      <th>331</th>\n",
       "      <td>Both parties agree to maintain the confidentia...</td>\n",
       "      <td>3</td>\n",
       "    </tr>\n",
       "    <tr>\n",
       "      <th>212</th>\n",
       "      <td>Either party may terminate this contract with ...</td>\n",
       "      <td>4</td>\n",
       "    </tr>\n",
       "    <tr>\n",
       "      <th>301</th>\n",
       "      <td>This contract shall be governed by and constru...</td>\n",
       "      <td>5</td>\n",
       "    </tr>\n",
       "    <tr>\n",
       "      <th>235</th>\n",
       "      <td>Both parties agree to maintain the confidentia...</td>\n",
       "      <td>3</td>\n",
       "    </tr>\n",
       "    <tr>\n",
       "      <th>19</th>\n",
       "      <td>Both parties agree to maintain the confidentia...</td>\n",
       "      <td>3</td>\n",
       "    </tr>\n",
       "  </tbody>\n",
       "</table>\n",
       "</div>"
      ],
      "text/plain": [
       "                                              features  label\n",
       "331  Both parties agree to maintain the confidentia...      3\n",
       "212  Either party may terminate this contract with ...      4\n",
       "301  This contract shall be governed by and constru...      5\n",
       "235  Both parties agree to maintain the confidentia...      3\n",
       "19   Both parties agree to maintain the confidentia...      3"
      ]
     },
     "execution_count": 3,
     "metadata": {},
     "output_type": "execute_result"
    }
   ],
   "source": [
    "# Train and Test data split\n",
    "train_df, val_df = train_test_split(df, test_size=0.2, random_state=42, stratify=df.label)\n",
    "# Check the dataset\n",
    "train_df.head()"
   ]
  },
  {
   "cell_type": "code",
   "execution_count": 4,
   "id": "33598b41-1c71-4a27-a5f0-31d5c5ec0361",
   "metadata": {},
   "outputs": [
    {
     "data": {
      "text/plain": [
       "label\n",
       "6    80\n",
       "3    40\n",
       "4    40\n",
       "5    40\n",
       "1    40\n",
       "0    40\n",
       "2    40\n",
       "Name: count, dtype: int64"
      ]
     },
     "execution_count": 4,
     "metadata": {},
     "output_type": "execute_result"
    }
   ],
   "source": [
    "train_df['label'].value_counts()"
   ]
  },
  {
   "cell_type": "code",
   "execution_count": 5,
   "id": "a2335d50-e066-452a-855d-31e915adbc6f",
   "metadata": {},
   "outputs": [
    {
     "data": {
      "text/plain": [
       "label\n",
       "6    20\n",
       "2    10\n",
       "4    10\n",
       "3    10\n",
       "1    10\n",
       "5    10\n",
       "0    10\n",
       "Name: count, dtype: int64"
      ]
     },
     "execution_count": 5,
     "metadata": {},
     "output_type": "execute_result"
    }
   ],
   "source": [
    "val_df['label'].value_counts()"
   ]
  },
  {
   "cell_type": "markdown",
   "id": "faa6153b-df25-4c27-9bc4-e7a1ad2e5100",
   "metadata": {},
   "source": [
    "### Tokenize the Text"
   ]
  },
  {
   "cell_type": "code",
   "execution_count": 6,
   "id": "f501b586-3431-4f71-9aa5-3807bf41cdfb",
   "metadata": {},
   "outputs": [],
   "source": [
    "from transformers import BertTokenizer\n",
    "\n",
    "# Load Bert Tokenizer\n",
    "tokenizer = BertTokenizer.from_pretrained(\"bert-base-uncased\")\n",
    "\n",
    "# Tokenize  the input text \n",
    "def tokenize_function(texts):\n",
    "    return tokenizer(\n",
    "        texts.tolist(),\n",
    "        padding=True,\n",
    "        truncation=True,\n",
    "        max_length=128,\n",
    "        return_tensors='pt'\n",
    "    )"
   ]
  },
  {
   "cell_type": "code",
   "execution_count": 7,
   "id": "b4412c1b-a038-49e7-9f35-7be6b416e584",
   "metadata": {},
   "outputs": [],
   "source": [
    "train_texts = train_df['features'].values\n",
    "val_texts = val_df['features'].values\n",
    "\n",
    "train_encodings = tokenize_function(train_texts)\n",
    "val_encodings = tokenize_function(val_texts)"
   ]
  },
  {
   "cell_type": "code",
   "execution_count": 8,
   "id": "25751777-82b5-4fd2-b5a7-c7f5d6847726",
   "metadata": {},
   "outputs": [
    {
     "data": {
      "text/plain": [
       "tensor([  101,  2119,  4243,  5993,  2000,  5441,  1996, 18777,  3012,  1997,\n",
       "         2151, 16350,  2030, 18777,  2592, 21362,  2076,  1996,  2744,  1997,\n",
       "         2023,  3206,  1012,  2023, 14987,  2097,  3613,  3458,  1996, 18287,\n",
       "         1997,  2023,  3206,  1012,   102,     0,     0,     0,     0,     0,\n",
       "            0,     0,     0,     0,     0,     0,     0,     0,     0,     0,\n",
       "            0,     0])"
      ]
     },
     "execution_count": 8,
     "metadata": {},
     "output_type": "execute_result"
    }
   ],
   "source": [
    "train_encodings['input_ids'][0]"
   ]
  },
  {
   "cell_type": "code",
   "execution_count": 9,
   "id": "604e20ab-f4da-49f3-92d2-786771183133",
   "metadata": {},
   "outputs": [],
   "source": [
    "import torch\n",
    "from torch.utils.data import Dataset, DataLoader\n",
    "\n",
    "class ContractDataset(Dataset):\n",
    "    def __init__(self, encodings, labels):\n",
    "        self.encodings = encodings\n",
    "        self.labels = labels\n",
    "\n",
    "    def __getitem__(self, idx):\n",
    "        item = {key:val[idx] for key, val in self.encodings.items()}\n",
    "        item['label'] = torch.tensor(self.labels[idx])\n",
    "        return item\n",
    "\n",
    "    def __len__(self):\n",
    "        return len(self.labels)\n",
    "\n",
    "train_labels = train_df['label'].values\n",
    "val_labels = val_df['label'].values\n",
    "\n",
    "train_dataset = ContractDataset(train_encodings, train_labels)\n",
    "val_dataset = ContractDataset(val_encodings, val_labels)"
   ]
  },
  {
   "cell_type": "code",
   "execution_count": 10,
   "id": "0ddc3c24-1bd4-47a7-b268-d7b3c4be7ca8",
   "metadata": {},
   "outputs": [
    {
     "data": {
      "text/plain": [
       "{'input_ids': tensor([  101,  2119,  4243,  5993,  2000,  5441,  1996, 18777,  3012,  1997,\n",
       "          2151, 16350,  2030, 18777,  2592, 21362,  2076,  1996,  2744,  1997,\n",
       "          2023,  3206,  1012,  2023, 14987,  2097,  3613,  3458,  1996, 18287,\n",
       "          1997,  2023,  3206,  1012,   102,     0,     0,     0,     0,     0,\n",
       "             0,     0,     0,     0,     0,     0,     0,     0,     0,     0,\n",
       "             0,     0]),\n",
       " 'token_type_ids': tensor([0, 0, 0, 0, 0, 0, 0, 0, 0, 0, 0, 0, 0, 0, 0, 0, 0, 0, 0, 0, 0, 0, 0, 0,\n",
       "         0, 0, 0, 0, 0, 0, 0, 0, 0, 0, 0, 0, 0, 0, 0, 0, 0, 0, 0, 0, 0, 0, 0, 0,\n",
       "         0, 0, 0, 0]),\n",
       " 'attention_mask': tensor([1, 1, 1, 1, 1, 1, 1, 1, 1, 1, 1, 1, 1, 1, 1, 1, 1, 1, 1, 1, 1, 1, 1, 1,\n",
       "         1, 1, 1, 1, 1, 1, 1, 1, 1, 1, 1, 0, 0, 0, 0, 0, 0, 0, 0, 0, 0, 0, 0, 0,\n",
       "         0, 0, 0, 0]),\n",
       " 'label': tensor(3)}"
      ]
     },
     "execution_count": 10,
     "metadata": {},
     "output_type": "execute_result"
    }
   ],
   "source": [
    "# Example Dataset\n",
    "example = iter(train_dataset)\n",
    "example_item = next(example)\n",
    "example_item"
   ]
  },
  {
   "cell_type": "markdown",
   "id": "55f5be51-fca9-4438-bceb-c38c05fbd4de",
   "metadata": {},
   "source": [
    "### Fine-Tune the BERT Model "
   ]
  },
  {
   "cell_type": "code",
   "execution_count": 11,
   "id": "00aac404-3734-4b90-9182-67215829a93c",
   "metadata": {},
   "outputs": [
    {
     "name": "stderr",
     "output_type": "stream",
     "text": [
      "Some weights of BertForSequenceClassification were not initialized from the model checkpoint at bert-base-uncased and are newly initialized: ['classifier.bias', 'classifier.weight']\n",
      "You should probably TRAIN this model on a down-stream task to be able to use it for predictions and inference.\n"
     ]
    }
   ],
   "source": [
    "from transformers import BertForSequenceClassification\n",
    "from torch.utils.data import DataLoader\n",
    "from torch.optim import lr_scheduler, AdamW\n",
    "\n",
    "# Load the Bert model of sequence classification\n",
    "model = BertForSequenceClassification.from_pretrained('bert-base-uncased', num_labels=7)\n",
    "\n",
    "train_loader = DataLoader(\n",
    "    dataset=train_dataset,\n",
    "    batch_size=8,\n",
    "    shuffle=True\n",
    ")\n",
    "val_loader = DataLoader(\n",
    "    dataset=val_dataset,\n",
    "    batch_size=8,\n",
    "    shuffle=False\n",
    ")"
   ]
  },
  {
   "cell_type": "code",
   "execution_count": 12,
   "id": "0026137f-2c9f-4d12-95e1-c21ac3f22818",
   "metadata": {},
   "outputs": [],
   "source": [
    "# Define optimizer and learning rate scheduler\n",
    "optimizer = AdamW(model.parameters(), lr=5e-5)\n",
    "scheduler = lr_scheduler.StepLR(optimizer, step_size=1, gamma=0.1)"
   ]
  },
  {
   "cell_type": "code",
   "execution_count": 13,
   "id": "ae637f02-8a38-4123-9317-1e1c97619157",
   "metadata": {
    "scrolled": true
   },
   "outputs": [
    {
     "data": {
      "text/plain": [
       "BertForSequenceClassification(\n",
       "  (bert): BertModel(\n",
       "    (embeddings): BertEmbeddings(\n",
       "      (word_embeddings): Embedding(30522, 768, padding_idx=0)\n",
       "      (position_embeddings): Embedding(512, 768)\n",
       "      (token_type_embeddings): Embedding(2, 768)\n",
       "      (LayerNorm): LayerNorm((768,), eps=1e-12, elementwise_affine=True)\n",
       "      (dropout): Dropout(p=0.1, inplace=False)\n",
       "    )\n",
       "    (encoder): BertEncoder(\n",
       "      (layer): ModuleList(\n",
       "        (0-11): 12 x BertLayer(\n",
       "          (attention): BertAttention(\n",
       "            (self): BertSdpaSelfAttention(\n",
       "              (query): Linear(in_features=768, out_features=768, bias=True)\n",
       "              (key): Linear(in_features=768, out_features=768, bias=True)\n",
       "              (value): Linear(in_features=768, out_features=768, bias=True)\n",
       "              (dropout): Dropout(p=0.1, inplace=False)\n",
       "            )\n",
       "            (output): BertSelfOutput(\n",
       "              (dense): Linear(in_features=768, out_features=768, bias=True)\n",
       "              (LayerNorm): LayerNorm((768,), eps=1e-12, elementwise_affine=True)\n",
       "              (dropout): Dropout(p=0.1, inplace=False)\n",
       "            )\n",
       "          )\n",
       "          (intermediate): BertIntermediate(\n",
       "            (dense): Linear(in_features=768, out_features=3072, bias=True)\n",
       "            (intermediate_act_fn): GELUActivation()\n",
       "          )\n",
       "          (output): BertOutput(\n",
       "            (dense): Linear(in_features=3072, out_features=768, bias=True)\n",
       "            (LayerNorm): LayerNorm((768,), eps=1e-12, elementwise_affine=True)\n",
       "            (dropout): Dropout(p=0.1, inplace=False)\n",
       "          )\n",
       "        )\n",
       "      )\n",
       "    )\n",
       "    (pooler): BertPooler(\n",
       "      (dense): Linear(in_features=768, out_features=768, bias=True)\n",
       "      (activation): Tanh()\n",
       "    )\n",
       "  )\n",
       "  (dropout): Dropout(p=0.1, inplace=False)\n",
       "  (classifier): Linear(in_features=768, out_features=7, bias=True)\n",
       ")"
      ]
     },
     "execution_count": 13,
     "metadata": {},
     "output_type": "execute_result"
    }
   ],
   "source": [
    "# Move model to GPU if available\n",
    "device = torch.device('cuda') if torch.cuda.is_available() else torch.device('cpu')\n",
    "model.to(device)"
   ]
  },
  {
   "cell_type": "code",
   "execution_count": 14,
   "id": "41114adc-97d0-4c1f-a78a-edc6b7b5d4da",
   "metadata": {},
   "outputs": [
    {
     "name": "stderr",
     "output_type": "stream",
     "text": [
      "C:\\Users\\USER\\anaconda3\\envs\\torchtut\\Lib\\site-packages\\transformers\\models\\bert\\modeling_bert.py:435: UserWarning: 1Torch was not compiled with flash attention. (Triggered internally at ..\\aten\\src\\ATen\\native\\transformers\\cuda\\sdp_utils.cpp:455.)\n",
      "  attn_output = torch.nn.functional.scaled_dot_product_attention(\n"
     ]
    },
    {
     "name": "stdout",
     "output_type": "stream",
     "text": [
      "Epoch 1, Loss: 1.0072647355496884\n",
      "Epoch 2, Loss: 0.21494141407310963\n",
      "Epoch 3, Loss: 0.17988903261721134\n",
      "Epoch 4, Loss: 0.17756499648094176\n",
      "Epoch 5, Loss: 0.17544155176728965\n"
     ]
    }
   ],
   "source": [
    "# Training Loop\n",
    "NUM_EPOCHS = 5\n",
    "for epoch in range(NUM_EPOCHS):\n",
    "    model.train()\n",
    "    total_loss = 0\n",
    "    for batch in train_loader:\n",
    "        optimizer.zero_grad()\n",
    "        input_ids = batch['input_ids'].to(device)\n",
    "        attention_mask = batch['attention_mask'].to(device)\n",
    "        labels = batch['label'].to(device)\n",
    "        outputs = model(input_ids=input_ids, attention_mask=attention_mask, labels=labels)\n",
    "        loss = outputs.loss\n",
    "        total_loss += loss.item()\n",
    "        loss.backward()\n",
    "        optimizer.step()\n",
    "    scheduler.step()\n",
    "    avg_train_loss = total_loss/len(train_loader)\n",
    "    print(f\"Epoch {epoch + 1}, Loss: {avg_train_loss}\")\n",
    "        "
   ]
  },
  {
   "cell_type": "code",
   "execution_count": 20,
   "id": "48427210-3ae7-48be-bd79-9f882c6d716b",
   "metadata": {},
   "outputs": [
    {
     "name": "stdout",
     "output_type": "stream",
     "text": [
      "Validation Accuracy:1.0000\n"
     ]
    }
   ],
   "source": [
    "# Validation Loop\n",
    "model.eval()\n",
    "correct = 0\n",
    "total = 0\n",
    "with torch.no_grad():\n",
    "    for batch in val_loader:\n",
    "        input_ids = batch['input_ids'].to(device)\n",
    "        attention_mask = batch['attention_mask'].to(device)\n",
    "        labels = batch['label'].to(device)\n",
    "\n",
    "        output = model(input_ids=input_ids, attention_mask=attention_mask)\n",
    "        _, predicted = torch.max(output.logits, 1)\n",
    "        total += labels.size(0)\n",
    "        correct += (predicted == labels).sum().item()\n",
    "accuracy = correct / total\n",
    "print(f\"Validation Accuracy:{accuracy:.4f}\")\n",
    "    \n",
    "    "
   ]
  },
  {
   "cell_type": "code",
   "execution_count": 21,
   "id": "7b9879e9-eaf3-4d70-ae7e-1f23b8df5e93",
   "metadata": {},
   "outputs": [
    {
     "name": "stdout",
     "output_type": "stream",
     "text": [
      "Model saved to ./fine_tuned_bert\n"
     ]
    }
   ],
   "source": [
    "# Save the fine-tuned model and tokenizer\n",
    "model_save_path = './fine_tuned_bert'\n",
    "model.save_pretrained(model_save_path)\n",
    "tokenizer.save_pretrained(model_save_path)\n",
    "\n",
    "print(f\"Model saved to {model_save_path}\")"
   ]
  },
  {
   "cell_type": "markdown",
   "id": "004c9d61-4adc-41ca-9130-0b89323e4b66",
   "metadata": {},
   "source": [
    "# Step 4: Use the Fine Tuned Bert model for clause prediction"
   ]
  },
  {
   "cell_type": "code",
   "execution_count": 1,
   "id": "dbef3720-1e3c-4440-9fef-07fb4354a555",
   "metadata": {},
   "outputs": [],
   "source": [
    "# Import Dependencies \n",
    "from transformers import BertForSequenceClassification, BertTokenizer\n",
    "import torch"
   ]
  },
  {
   "cell_type": "code",
   "execution_count": 2,
   "id": "94fb5fd8-0723-4ddb-8157-b78920b4a7c7",
   "metadata": {},
   "outputs": [],
   "source": [
    "# Load the fine tuned model \n",
    "model_load_path = \"./fine_tuned_bert\"\n",
    "model = BertForSequenceClassification.from_pretrained(model_load_path)\n",
    "tokenizer = BertTokenizer.from_pretrained(model_load_path)"
   ]
  },
  {
   "cell_type": "code",
   "execution_count": 3,
   "id": "11510744-e277-47c6-ba3a-e19e4c449a0a",
   "metadata": {
    "scrolled": true
   },
   "outputs": [
    {
     "data": {
      "text/plain": [
       "BertForSequenceClassification(\n",
       "  (bert): BertModel(\n",
       "    (embeddings): BertEmbeddings(\n",
       "      (word_embeddings): Embedding(30522, 768, padding_idx=0)\n",
       "      (position_embeddings): Embedding(512, 768)\n",
       "      (token_type_embeddings): Embedding(2, 768)\n",
       "      (LayerNorm): LayerNorm((768,), eps=1e-12, elementwise_affine=True)\n",
       "      (dropout): Dropout(p=0.1, inplace=False)\n",
       "    )\n",
       "    (encoder): BertEncoder(\n",
       "      (layer): ModuleList(\n",
       "        (0-11): 12 x BertLayer(\n",
       "          (attention): BertAttention(\n",
       "            (self): BertSdpaSelfAttention(\n",
       "              (query): Linear(in_features=768, out_features=768, bias=True)\n",
       "              (key): Linear(in_features=768, out_features=768, bias=True)\n",
       "              (value): Linear(in_features=768, out_features=768, bias=True)\n",
       "              (dropout): Dropout(p=0.1, inplace=False)\n",
       "            )\n",
       "            (output): BertSelfOutput(\n",
       "              (dense): Linear(in_features=768, out_features=768, bias=True)\n",
       "              (LayerNorm): LayerNorm((768,), eps=1e-12, elementwise_affine=True)\n",
       "              (dropout): Dropout(p=0.1, inplace=False)\n",
       "            )\n",
       "          )\n",
       "          (intermediate): BertIntermediate(\n",
       "            (dense): Linear(in_features=768, out_features=3072, bias=True)\n",
       "            (intermediate_act_fn): GELUActivation()\n",
       "          )\n",
       "          (output): BertOutput(\n",
       "            (dense): Linear(in_features=3072, out_features=768, bias=True)\n",
       "            (LayerNorm): LayerNorm((768,), eps=1e-12, elementwise_affine=True)\n",
       "            (dropout): Dropout(p=0.1, inplace=False)\n",
       "          )\n",
       "        )\n",
       "      )\n",
       "    )\n",
       "    (pooler): BertPooler(\n",
       "      (dense): Linear(in_features=768, out_features=768, bias=True)\n",
       "      (activation): Tanh()\n",
       "    )\n",
       "  )\n",
       "  (dropout): Dropout(p=0.1, inplace=False)\n",
       "  (classifier): Linear(in_features=768, out_features=7, bias=True)\n",
       ")"
      ]
     },
     "execution_count": 3,
     "metadata": {},
     "output_type": "execute_result"
    }
   ],
   "source": [
    "# Move model to GPU if available\n",
    "device = torch.device('cuda') if torch.cuda.is_available() else torch.device('cpu')\n",
    "model.to(device)"
   ]
  },
  {
   "cell_type": "code",
   "execution_count": 14,
   "id": "785375f5-bdc9-41f7-a092-250a1394afbf",
   "metadata": {},
   "outputs": [],
   "source": [
    "def predict(text):\n",
    "    # Tokenize the input text\n",
    "    inputs = tokenizer(text, truncation=True, max_length=128, return_tensors='pt', padding=True)\n",
    "\n",
    "    # Move inputs to GPU if available\n",
    "    inputs = {key:val.to(device) for key, val in inputs.items()}\n",
    "\n",
    "    # Perform inference \n",
    "    model.eval()\n",
    "    with torch.no_grad():\n",
    "        outputs = model(**inputs)\n",
    "        logits = outputs.logits\n",
    "        predicted_class = torch.argmax(logits, dim=1)\n",
    "        return predicted_class.item()"
   ]
  },
  {
   "cell_type": "code",
   "execution_count": 15,
   "id": "82fcfa14-5451-4956-ab57-74352ca69db6",
   "metadata": {},
   "outputs": [
    {
     "name": "stdout",
     "output_type": "stream",
     "text": [
      "Predicted class: 0\n"
     ]
    },
    {
     "name": "stderr",
     "output_type": "stream",
     "text": [
      "C:\\Users\\USER\\anaconda3\\envs\\torchtut\\Lib\\site-packages\\transformers\\models\\bert\\modeling_bert.py:435: UserWarning: 1Torch was not compiled with flash attention. (Triggered internally at ..\\aten\\src\\ATen\\native\\transformers\\cuda\\sdp_utils.cpp:455.)\n",
      "  attn_output = torch.nn.functional.scaled_dot_product_attention(\n"
     ]
    }
   ],
   "source": [
    "\n",
    "# Example text for inference\n",
    "example_text = \"Cole LLC agrees to provide the following services to Hines, Munoz and Dennis. services are service1 service2, service3.\"\n",
    "predicted_class = predict(example_text)\n",
    "print(f\"Predicted class: {predicted_class}\")"
   ]
  },
  {
   "cell_type": "code",
   "execution_count": 53,
   "id": "904ae716-f6bd-42fb-b881-9225c0aac10e",
   "metadata": {},
   "outputs": [
    {
     "name": "stdout",
     "output_type": "stream",
     "text": [
      "Both parties agree to maintain the confidentiality of any proprietary or confidential information disclosed during the term of this contract. This obligation will continue beyond the termination of this contract.\n",
      "3\n"
     ]
    }
   ],
   "source": [
    "random_sample = df.sample(1)\n",
    "print(random_sample['features'].iloc[0])\n",
    "print(random_sample['label'].iloc[0])"
   ]
  },
  {
   "cell_type": "code",
   "execution_count": 47,
   "id": "cab05098-5945-46b8-a6ea-19a652001b08",
   "metadata": {},
   "outputs": [
    {
     "name": "stdout",
     "output_type": "stream",
     "text": [
      "Actual :Governing Law\n",
      "Predicted : Governing Law\n",
      "\n",
      "\n",
      "Actual :Governing Law\n",
      "Predicted : Governing Law\n",
      "\n",
      "\n",
      "Actual :Termination\n",
      "Predicted : Termination\n",
      "\n",
      "\n",
      "Actual :Term\n",
      "Predicted : Term\n",
      "\n",
      "\n",
      "Actual :Signatures\n",
      "Predicted : Signatures\n",
      "\n",
      "\n"
     ]
    }
   ],
   "source": [
    "for i in range(5):\n",
    "    random_sample = df.sample(1)\n",
    "    example_text_2 = random_sample['features'].iloc[0]\n",
    "    example_class_2 = random_sample['label'].iloc[0]\n",
    "    predicted_class = predict(example_text_2)\n",
    "    print(f\"Actual :{classes[example_class_2]}\\nPredicted : {classes[predicted_class]}\\n\\n\")\n",
    "    "
   ]
  },
  {
   "cell_type": "code",
   "execution_count": 63,
   "id": "e9951118-5333-4e51-939c-5145ce3a7402",
   "metadata": {},
   "outputs": [
    {
     "data": {
      "text/plain": [
       "6"
      ]
     },
     "execution_count": 63,
     "metadata": {},
     "output_type": "execute_result"
    }
   ],
   "source": [
    "predict(\"__________________________\")"
   ]
  },
  {
   "cell_type": "markdown",
   "id": "732eb2d1-b8f9-4596-acbd-f6799daf94fa",
   "metadata": {},
   "source": [
    "# Step 5: Extract Data from PDF"
   ]
  },
  {
   "cell_type": "code",
   "execution_count": 65,
   "id": "491bf6aa-5eb2-4904-8d58-7d289b4e05f5",
   "metadata": {},
   "outputs": [],
   "source": [
    "import fitz  # PyMuPDF\n",
    "\n",
    "def extract_text_from_pdf(pdf_path:str) -> str:\n",
    "    # Open the pdf\n",
    "    doc = fitz.open(pdf_path)\n",
    "    text = \"\"\n",
    "\n",
    "    # Iterate over each page \n",
    "    for page_num in range(doc.page_count):\n",
    "        page = doc.load_page(page_num) # Load the page\n",
    "        text += page.get_text() # Extract text from the page\n",
    "    \n",
    "    return text"
   ]
  },
  {
   "cell_type": "code",
   "execution_count": 92,
   "id": "9ef9157b-8556-4b91-857d-93fee07f9d4c",
   "metadata": {},
   "outputs": [
    {
     "name": "stdout",
     "output_type": "stream",
     "text": [
      "Business Contract\n",
      "1. Services Provided:\n",
      "Chandler Inc agrees to provide the following services to Weaver Group. services are service1, service2, service3.\n",
      "2. Payment:\n",
      "Weaver Group agrees to pay Chandler Inc the amount of $56753 for the services described above. Payment shall be\n",
      "made within 76 days of receiving an invoice from Chandler Inc.\n",
      "3. Term:\n",
      "This contract will commence on 2024-05-27 and will continue until 2024-05-16 unless terminated earlier in\n",
      "accordance with the Termination clause.\n",
      "4. Confidentiality:\n",
      "Both parties agree to maintain the confidentiality of any proprietary or confidential information disclosed during the\n",
      "term of this contract. This obligation will continue beyond the termination of this contract.\n",
      "5. Termination:\n",
      "Either party may terminate this contract with 76 days written notice to the other party. In the event of termination,\n",
      "Chandler Inc will be compensated for all services performed up to the date of termination.\n",
      "6. Governing Law:\n",
      "This contract shall be governed by and construed in accordance with the laws of the State of Arizona.\n",
      "7. Signatures:\n",
      "Chandler Inc\n",
      "Date: ____________________\n",
      "Weaver Group\n",
      "Date: ____________________\n",
      "\n"
     ]
    }
   ],
   "source": [
    "pdf_path = \"docs/Contract_2.pdf\" # Replace with your PDF file path\n",
    "extracted_text = extract_text_from_pdf(pdf_path)\n",
    "print(extracted_text)"
   ]
  },
  {
   "cell_type": "markdown",
   "id": "dc34defd-c331-44c7-bc7a-1d70fded5967",
   "metadata": {},
   "source": [
    "# Step 6: Classifying the main entities in each Clauses"
   ]
  },
  {
   "cell_type": "code",
   "execution_count": 81,
   "id": "eb9afe6f-211e-4ffb-8ea5-0e17b9f4fb31",
   "metadata": {},
   "outputs": [],
   "source": [
    "import spacy\n",
    "\n",
    "# Load spaCy's English model \n",
    "nlp = spacy.load(\"en_core_web_sm\")\n",
    "\n",
    "\n",
    "def extract_details(text):\n",
    "    doc = nlp(text)\n",
    "\n",
    "    # # Initialize dictionaries to store extracted details\n",
    "    # details = {\n",
    "    #     'services_provided': [],\n",
    "    #     'payment': [],\n",
    "    #     'term': [],\n",
    "    #     'confidentiality': [],\n",
    "    #     'termination': [],\n",
    "    #     'governing_law': [],\n",
    "    #     'parties': []\n",
    "    # }\n",
    "\n",
    "    # Iterate through entities recognized by spaCy\n",
    "    # for ent in doc.ents:\n",
    "    #     if ent.label_ in ('ORG', 'PERSON'):\n",
    "    #         details['parties'].append(ent.text)\n",
    "    #     elif ent.label_ == 'DATE':\n",
    "    #         details['term'].append(ent.text)\n",
    "    #     elif ent.label_ == 'MONEY':\n",
    "    #         details['payment'].append(ent.text)\n",
    "    #     elif 'service' in ent.text.lower():\n",
    "    #         details['services_provided'].append(ent.text)\n",
    "    #     elif 'confidential' in ent.text.lower() or 'proprietary' in ent.text.lower():\n",
    "    #         details['confidentiality'].append(ent.text)\n",
    "    #     elif 'termination' in ent.text.lower() or 'terminate' in ent.text.lower():\n",
    "    #         details['termination'].append(ent.text)\n",
    "    #     elif 'law' in ent.text.lower() or 'state' in ent.text.lower():\n",
    "    #         details['governing_law'].append(ent.text)\n",
    "    \n",
    "    # return details\n",
    "    entities = []\n",
    "    for ent in doc.ents:\n",
    "        entities.append([ent.text, ent.label_])\n",
    "    return entities\n"
   ]
  },
  {
   "cell_type": "code",
   "execution_count": 83,
   "id": "b5557964-ba83-4873-9aaa-083b318f6eea",
   "metadata": {
    "scrolled": true
   },
   "outputs": [
    {
     "name": "stdout",
     "output_type": "stream",
     "text": [
      "\n",
      "[]\n",
      "\n",
      "Cole LLC agrees to provide the following services to Hines, Munoz and Dennis. Services are service1, service2, service3.\n",
      "[['Cole', 'PRODUCT'], ['Hines', 'ORG'], ['Munoz', 'GPE'], ['Dennis', 'PERSON'], ['service1', 'ORG'], ['service2', 'ORG'], ['service3', 'PRODUCT']]\n",
      "\n",
      "Hines, Munoz and Dennis agrees to pay Cole LLC the amount of $36777 for the services described above. Payment shall be made within 66 days of receiving an invoice from Cole LLC.\n",
      "[['Munoz', 'GPE'], ['Dennis', 'PERSON'], ['Cole', 'PRODUCT'], ['36777', 'MONEY'], ['66 days', 'DATE'], ['Cole', 'PRODUCT']]\n",
      "\n",
      "This contract will commence on 2024-03-01 and will continue until 2024-01-17 unless terminated earlier in accordance with the Termination clause.\n",
      "[['2024-03-01', 'DATE'], ['2024-01-17', 'DATE']]\n",
      "\n",
      "Both parties agree to maintain the confidentiality of any proprietary or confidential information disclosed during the term of this contract. This obligation will continue beyond the termination of this contract.\n",
      "[]\n",
      "\n",
      "Either party may terminate this contract with 66 days written notice to the other party. In the event of termination, Cole LLC will be compensated for all services performed up to the date of termination.\n",
      "[['66 days', 'DATE'], ['Cole', 'PRODUCT'], ['LLC', 'ORG']]\n",
      "\n",
      "This contract shall be governed by and construed in accordance with the laws of the State of Nebraska.\n",
      "[['Nebraska', 'GPE']]\n",
      "\n",
      "Cole LLC\n",
      "[['Cole', 'PRODUCT'], ['LLC', 'ORG']]\n",
      "\n",
      "Hines, Munoz and Dennis\n",
      "[['Munoz', 'GPE'], ['Dennis', 'PERSON']]\n",
      "\n"
     ]
    }
   ],
   "source": [
    " # Example text for extraction\n",
    "example_text = \"\"\"\n",
    "Cole LLC agrees to provide the following services to Hines, Munoz and Dennis. Services are service1, service2, service3.\n",
    "Hines, Munoz and Dennis agrees to pay Cole LLC the amount of $36777 for the services described above. Payment shall be made within 66 days of receiving an invoice from Cole LLC.\n",
    "This contract will commence on 2024-03-01 and will continue until 2024-01-17 unless terminated earlier in accordance with the Termination clause.\n",
    "Both parties agree to maintain the confidentiality of any proprietary or confidential information disclosed during the term of this contract. This obligation will continue beyond the termination of this contract.\n",
    "Either party may terminate this contract with 66 days written notice to the other party. In the event of termination, Cole LLC will be compensated for all services performed up to the date of termination.\n",
    "This contract shall be governed by and construed in accordance with the laws of the State of Nebraska.\n",
    "Cole LLC\n",
    "Hines, Munoz and Dennis\n",
    "\"\"\"\n",
    "for line in example_text.splitlines():\n",
    "    print(line)\n",
    "    extracted_details = extract_details(line)\n",
    "    print(extracted_details)\n",
    "    print()"
   ]
  },
  {
   "cell_type": "code",
   "execution_count": 93,
   "id": "68b83d04-5075-40b5-9416-ec23b34ac66b",
   "metadata": {},
   "outputs": [
    {
     "name": "stdout",
     "output_type": "stream",
     "text": [
      "[]\n",
      "[['1', 'CARDINAL']]\n",
      "[['Chandler Inc', 'ORG'], ['Weaver Group', 'ORG'], ['service1', 'ORG'], ['service2', 'ORG'], ['service3', 'PRODUCT']]\n",
      "[['2', 'CARDINAL']]\n",
      "[['Weaver Group', 'ORG'], ['Chandler Inc', 'ORG'], ['56753', 'MONEY']]\n",
      "[['76 days', 'DATE'], ['Chandler Inc.', 'ORG']]\n",
      "[['3', 'CARDINAL']]\n",
      "[['2024-05-27', 'DATE'], ['2024-05-16', 'DATE']]\n",
      "[]\n",
      "[['4', 'CARDINAL']]\n",
      "[]\n",
      "[]\n",
      "[['5', 'CARDINAL']]\n",
      "[['76 days', 'DATE']]\n",
      "[['Chandler Inc', 'ORG']]\n",
      "[['6', 'CARDINAL']]\n",
      "[['Arizona', 'GPE']]\n",
      "[['7', 'CARDINAL']]\n",
      "[['Chandler Inc', 'ORG']]\n",
      "[]\n",
      "[['Weaver Group', 'ORG']]\n",
      "[]\n"
     ]
    }
   ],
   "source": [
    "for line in extracted_text.splitlines():\n",
    "    print(extract_details(line))"
   ]
  },
  {
   "cell_type": "code",
   "execution_count": 11,
   "id": "0df04ede-528b-48b1-a185-00e218a6cb20",
   "metadata": {},
   "outputs": [],
   "source": [
    "k = {\"a\":[2, 243, 2],\"b\":[43, 23, 1]}"
   ]
  },
  {
   "cell_type": "code",
   "execution_count": 12,
   "id": "01e840c3-c704-4b56-8c1b-3df14c676764",
   "metadata": {},
   "outputs": [],
   "source": [
    "def summa(a, b):\n",
    "    return a, b"
   ]
  },
  {
   "cell_type": "code",
   "execution_count": 13,
   "id": "ca2d31e6-1bef-4a28-b9af-9eb2c75b2045",
   "metadata": {},
   "outputs": [
    {
     "data": {
      "text/plain": [
       "([2, 243, 2], [43, 23, 1])"
      ]
     },
     "execution_count": 13,
     "metadata": {},
     "output_type": "execute_result"
    }
   ],
   "source": [
    "summa(**k)"
   ]
  },
  {
   "cell_type": "code",
   "execution_count": null,
   "id": "e931ee53-de69-4306-8683-f9c1860b71de",
   "metadata": {},
   "outputs": [],
   "source": []
  },
  {
   "cell_type": "markdown",
   "id": "070cfcef-6c54-4985-9abb-20f5127a6ff8",
   "metadata": {},
   "source": [
    "# 5. Train NER Model for BS Document"
   ]
  },
  {
   "cell_type": "markdown",
   "id": "52aa511f-c17e-4d54-ba3c-b64f30b39e1f",
   "metadata": {},
   "source": [
    "# Step 1: Prepare the Data"
   ]
  },
  {
   "cell_type": "code",
   "execution_count": 1,
   "id": "4062414c-4724-4534-8c36-95ffd221e13f",
   "metadata": {},
   "outputs": [],
   "source": [
    "from faker import Faker\n",
    "import pandas as pd\n",
    "# import spacy\n",
    "# from spacy.util import minibatch, compounding\n",
    "# from spacy.training.example import Example\n",
    "# import random"
   ]
  },
  {
   "cell_type": "code",
   "execution_count": 113,
   "id": "225d2207-ec65-4ce4-bec3-93cc5f915623",
   "metadata": {},
   "outputs": [],
   "source": [
    "fake: Faker = Faker()\n",
    "\n",
    "# Creating Contract Text using Faker \n",
    "def generate_spacy_dataset() -> pd.DataFrame:\n",
    "    # generate random details\n",
    "    service_provider_name = fake.company()\n",
    "    client_name = fake.company()\n",
    "    amount = fake.random_number(digits=5)\n",
    "    start_date = fake.date_this_year()\n",
    "    end_date = fake.date_this_year()\n",
    "    state = fake.state()\n",
    "    notice_days = fake.random_int(min=30, max=90)\n",
    "\n",
    "    # Contract text template\n",
    "    data = {\n",
    "        0:f\"{service_provider_name} agrees to provide the following services to {client_name}. services are service1 service2, service3.\",\n",
    "        1:f\"{client_name} agrees to pay {service_provider_name} the amount of ${amount} for the services described above. Payment shall be made within {notice_days} days of receiving an invoice from {service_provider_name}.\",\n",
    "        2:f\"This contract will commence on {start_date} and will continue until {end_date} unless terminated earlier in accordance with the Termination clause.\",\n",
    "        3:f\"Both parties agree to maintain the confidentiality of any proprietary or confidential information disclosed during the term of this contract. This obligation will continue beyond the termination of this contract.\",\n",
    "        4:f\"Either party may terminate this contract with {notice_days} days written notice to the other party. In the event of termination, {service_provider_name} will be compensated for all services performed up to the date of termination.\",\n",
    "        5:f\"This contract shall be governed by and construed in accordance with the laws of the State of {state}.\"\n",
    "        \n",
    "    }\n",
    "    \n",
    "    datasets =[\n",
    "        (data[0], [(data[0].find(service_provider_name), data[0].find(service_provider_name)+len(service_provider_name), \"PARTY_A\"), (data[0].find(client_name), data[0].find(client_name)+len(client_name), \"PARTY_B\")]),\n",
    "        (data[1], [(data[1].find(client_name), data[1].find(client_name)+len(client_name), \"PARTY_B\"), (data[1].find(service_provider_name), data[1].find(service_provider_name)+len(service_provider_name), \"PARTY_A\"), (data[1].find(str(amount)), data[1].find(str(amount))+len(str(amount)), \"MONEY\"), (data[1].find(str(notice_days)), data[1].find(str(notice_days))+len(str(notice_days)), \"NOTICE_DAYS\")]),\n",
    "        (data[2], [(data[2].find(str(start_date)), data[2].find(str(start_date))+len(str(start_date)), \"START_DATE\"), (data[2].find(str(end_date)), data[2].find(str(end_date))+len(str(end_date)), \"END_DATE\")]),\n",
    "        (data[3], [(data[3].find(\"confidentiality\"), data[3].find(\"confidentiality\")+len(\"confidentiality\"), \"CONFIDENTIALITY\")]),\n",
    "        (data[4], [(data[4].find(str(notice_days)), data[4].find(str(notice_days))+len(str(notice_days)), \"NOTICE_DAYS\"), (data[4].find(service_provider_name), data[4].find(service_provider_name)+len(service_provider_name), \"PARTY_A\")]),\n",
    "        (data[5], [(data[5].find(state), data[5].find(state)+len(state), \"STATE\")]),\n",
    "    ]\n",
    "\n",
    "    return pd.DataFrame(datasets)"
   ]
  },
  {
   "cell_type": "code",
   "execution_count": 114,
   "id": "b7646979-0fbe-430d-a392-8092cd0183c5",
   "metadata": {},
   "outputs": [
    {
     "data": {
      "text/html": [
       "<div>\n",
       "<style scoped>\n",
       "    .dataframe tbody tr th:only-of-type {\n",
       "        vertical-align: middle;\n",
       "    }\n",
       "\n",
       "    .dataframe tbody tr th {\n",
       "        vertical-align: top;\n",
       "    }\n",
       "\n",
       "    .dataframe thead th {\n",
       "        text-align: right;\n",
       "    }\n",
       "</style>\n",
       "<table border=\"1\" class=\"dataframe\">\n",
       "  <thead>\n",
       "    <tr style=\"text-align: right;\">\n",
       "      <th></th>\n",
       "      <th>0</th>\n",
       "      <th>1</th>\n",
       "    </tr>\n",
       "  </thead>\n",
       "  <tbody>\n",
       "    <tr>\n",
       "      <th>0</th>\n",
       "      <td>Sanchez-Buckley agrees to provide the followin...</td>\n",
       "      <td>[(0, 15, PARTY_A), (60, 76, PARTY_B)]</td>\n",
       "    </tr>\n",
       "    <tr>\n",
       "      <th>1</th>\n",
       "      <td>Johnson-Santiago agrees to pay Sanchez-Buckley...</td>\n",
       "      <td>[(0, 16, PARTY_B), (31, 46, PARTY_A), (62, 67,...</td>\n",
       "    </tr>\n",
       "    <tr>\n",
       "      <th>2</th>\n",
       "      <td>This contract will commence on 2024-01-25 and ...</td>\n",
       "      <td>[(31, 41, START_DATE), (66, 76, END_DATE)]</td>\n",
       "    </tr>\n",
       "    <tr>\n",
       "      <th>3</th>\n",
       "      <td>Both parties agree to maintain the confidentia...</td>\n",
       "      <td>[(35, 50, CONFIDENTIALITY)]</td>\n",
       "    </tr>\n",
       "    <tr>\n",
       "      <th>4</th>\n",
       "      <td>Either party may terminate this contract with ...</td>\n",
       "      <td>[(46, 48, NOTICE_DAYS), (118, 133, PARTY_A)]</td>\n",
       "    </tr>\n",
       "    <tr>\n",
       "      <th>...</th>\n",
       "      <td>...</td>\n",
       "      <td>...</td>\n",
       "    </tr>\n",
       "    <tr>\n",
       "      <th>1</th>\n",
       "      <td>Howell, Lopez and Jackson agrees to pay Moore-...</td>\n",
       "      <td>[(0, 25, PARTY_B), (40, 52, PARTY_A), (68, 73,...</td>\n",
       "    </tr>\n",
       "    <tr>\n",
       "      <th>2</th>\n",
       "      <td>This contract will commence on 2024-04-15 and ...</td>\n",
       "      <td>[(31, 41, START_DATE), (66, 76, END_DATE)]</td>\n",
       "    </tr>\n",
       "    <tr>\n",
       "      <th>3</th>\n",
       "      <td>Both parties agree to maintain the confidentia...</td>\n",
       "      <td>[(35, 50, CONFIDENTIALITY)]</td>\n",
       "    </tr>\n",
       "    <tr>\n",
       "      <th>4</th>\n",
       "      <td>Either party may terminate this contract with ...</td>\n",
       "      <td>[(46, 48, NOTICE_DAYS), (118, 130, PARTY_A)]</td>\n",
       "    </tr>\n",
       "    <tr>\n",
       "      <th>5</th>\n",
       "      <td>This contract shall be governed by and constru...</td>\n",
       "      <td>[(93, 101, STATE)]</td>\n",
       "    </tr>\n",
       "  </tbody>\n",
       "</table>\n",
       "<p>6000 rows × 2 columns</p>\n",
       "</div>"
      ],
      "text/plain": [
       "                                                    0  \\\n",
       "0   Sanchez-Buckley agrees to provide the followin...   \n",
       "1   Johnson-Santiago agrees to pay Sanchez-Buckley...   \n",
       "2   This contract will commence on 2024-01-25 and ...   \n",
       "3   Both parties agree to maintain the confidentia...   \n",
       "4   Either party may terminate this contract with ...   \n",
       "..                                                ...   \n",
       "1   Howell, Lopez and Jackson agrees to pay Moore-...   \n",
       "2   This contract will commence on 2024-04-15 and ...   \n",
       "3   Both parties agree to maintain the confidentia...   \n",
       "4   Either party may terminate this contract with ...   \n",
       "5   This contract shall be governed by and constru...   \n",
       "\n",
       "                                                    1  \n",
       "0               [(0, 15, PARTY_A), (60, 76, PARTY_B)]  \n",
       "1   [(0, 16, PARTY_B), (31, 46, PARTY_A), (62, 67,...  \n",
       "2          [(31, 41, START_DATE), (66, 76, END_DATE)]  \n",
       "3                         [(35, 50, CONFIDENTIALITY)]  \n",
       "4        [(46, 48, NOTICE_DAYS), (118, 133, PARTY_A)]  \n",
       "..                                                ...  \n",
       "1   [(0, 25, PARTY_B), (40, 52, PARTY_A), (68, 73,...  \n",
       "2          [(31, 41, START_DATE), (66, 76, END_DATE)]  \n",
       "3                         [(35, 50, CONFIDENTIALITY)]  \n",
       "4        [(46, 48, NOTICE_DAYS), (118, 130, PARTY_A)]  \n",
       "5                                  [(93, 101, STATE)]  \n",
       "\n",
       "[6000 rows x 2 columns]"
      ]
     },
     "execution_count": 114,
     "metadata": {},
     "output_type": "execute_result"
    }
   ],
   "source": [
    "all_dfs = []\n",
    "for i in range(1000):\n",
    "    all_dfs.append(generate_spacy_dataset())\n",
    "\n",
    "df = pd.concat(all_dfs)\n",
    "df"
   ]
  },
  {
   "cell_type": "code",
   "execution_count": 115,
   "id": "5abee81c-da0a-4cf9-be1e-0f7c52be4785",
   "metadata": {},
   "outputs": [
    {
     "data": {
      "text/html": [
       "<div>\n",
       "<style scoped>\n",
       "    .dataframe tbody tr th:only-of-type {\n",
       "        vertical-align: middle;\n",
       "    }\n",
       "\n",
       "    .dataframe tbody tr th {\n",
       "        vertical-align: top;\n",
       "    }\n",
       "\n",
       "    .dataframe thead th {\n",
       "        text-align: right;\n",
       "    }\n",
       "</style>\n",
       "<table border=\"1\" class=\"dataframe\">\n",
       "  <thead>\n",
       "    <tr style=\"text-align: right;\">\n",
       "      <th></th>\n",
       "      <th>features</th>\n",
       "      <th>labels</th>\n",
       "    </tr>\n",
       "  </thead>\n",
       "  <tbody>\n",
       "    <tr>\n",
       "      <th>0</th>\n",
       "      <td>Sanchez-Buckley agrees to provide the followin...</td>\n",
       "      <td>[(0, 15, PARTY_A), (60, 76, PARTY_B)]</td>\n",
       "    </tr>\n",
       "    <tr>\n",
       "      <th>1</th>\n",
       "      <td>Johnson-Santiago agrees to pay Sanchez-Buckley...</td>\n",
       "      <td>[(0, 16, PARTY_B), (31, 46, PARTY_A), (62, 67,...</td>\n",
       "    </tr>\n",
       "    <tr>\n",
       "      <th>2</th>\n",
       "      <td>This contract will commence on 2024-01-25 and ...</td>\n",
       "      <td>[(31, 41, START_DATE), (66, 76, END_DATE)]</td>\n",
       "    </tr>\n",
       "    <tr>\n",
       "      <th>3</th>\n",
       "      <td>Both parties agree to maintain the confidentia...</td>\n",
       "      <td>[(35, 50, CONFIDENTIALITY)]</td>\n",
       "    </tr>\n",
       "    <tr>\n",
       "      <th>4</th>\n",
       "      <td>Either party may terminate this contract with ...</td>\n",
       "      <td>[(46, 48, NOTICE_DAYS), (118, 133, PARTY_A)]</td>\n",
       "    </tr>\n",
       "  </tbody>\n",
       "</table>\n",
       "</div>"
      ],
      "text/plain": [
       "                                            features  \\\n",
       "0  Sanchez-Buckley agrees to provide the followin...   \n",
       "1  Johnson-Santiago agrees to pay Sanchez-Buckley...   \n",
       "2  This contract will commence on 2024-01-25 and ...   \n",
       "3  Both parties agree to maintain the confidentia...   \n",
       "4  Either party may terminate this contract with ...   \n",
       "\n",
       "                                              labels  \n",
       "0              [(0, 15, PARTY_A), (60, 76, PARTY_B)]  \n",
       "1  [(0, 16, PARTY_B), (31, 46, PARTY_A), (62, 67,...  \n",
       "2         [(31, 41, START_DATE), (66, 76, END_DATE)]  \n",
       "3                        [(35, 50, CONFIDENTIALITY)]  \n",
       "4       [(46, 48, NOTICE_DAYS), (118, 133, PARTY_A)]  "
      ]
     },
     "execution_count": 115,
     "metadata": {},
     "output_type": "execute_result"
    }
   ],
   "source": [
    "df.columns = [\"features\", \"labels\"]\n",
    "df.head()"
   ]
  },
  {
   "cell_type": "code",
   "execution_count": 6,
   "id": "ae955d02-f321-4ec9-bbb4-399c96184fca",
   "metadata": {},
   "outputs": [],
   "source": [
    "# Convert Data\n",
    "# def convert_data(data:pd.DataFrame):\n",
    "#     TRAIN_DATA = []\n",
    "#     for idx, row in data.iterrows():\n",
    "#         TRAIN_DATA.append((row[\"features\"], {\"entities\":row[\"labels\"]}))\n",
    "#     return TRAIN_DATA"
   ]
  },
  {
   "cell_type": "code",
   "execution_count": 7,
   "id": "195dbdff-543b-4c7e-9138-845151c499eb",
   "metadata": {},
   "outputs": [],
   "source": [
    "# # text, entities = df.iloc[0]\n",
    "# for index, row in df.iterrows():\n",
    "#     print(row[\"features\"])\n",
    "#     print(row[\"labels\"])\n",
    "#     break"
   ]
  },
  {
   "cell_type": "code",
   "execution_count": 8,
   "id": "51c19d20-b5e4-41b8-9bcd-fb962c12933a",
   "metadata": {},
   "outputs": [],
   "source": [
    "# train_data = convert_data(df)\n",
    "# train_data[0]"
   ]
  },
  {
   "cell_type": "code",
   "execution_count": 9,
   "id": "bee6b371-8fc4-46ec-acaa-f337f41204ec",
   "metadata": {},
   "outputs": [],
   "source": [
    "# # Create a blank English model\n",
    "# nlp = spacy.blank(\"en\")"
   ]
  },
  {
   "cell_type": "code",
   "execution_count": 10,
   "id": "8ae2d651-c287-4252-b77e-d98a9870aef8",
   "metadata": {},
   "outputs": [],
   "source": [
    "# # Creating the NER component\n",
    "# if 'ner' not in nlp.pipe_names:\n",
    "#     ner = nlp.add_pipe('ner', last=True)\n",
    "# else:\n",
    "#     ner = nlp.get_pipe('ner')"
   ]
  },
  {
   "cell_type": "code",
   "execution_count": 11,
   "id": "b8bfacea-0128-42f1-a3d5-3fd8ffc90afb",
   "metadata": {},
   "outputs": [],
   "source": [
    "# # Add custom entity labels to the NER component\n",
    "# for _, annotations in train_data:\n",
    "#     for entity in annotations.get(\"entities\"):\n",
    "#         ner.add_label(entity[2])"
   ]
  },
  {
   "cell_type": "code",
   "execution_count": 12,
   "id": "8d19d51a-4c4c-4178-a198-d5b7451a4561",
   "metadata": {},
   "outputs": [],
   "source": [
    "# # Start training\n",
    "# nlp.begin_training()"
   ]
  },
  {
   "cell_type": "code",
   "execution_count": 13,
   "id": "f54c72e9-51e8-48cd-b389-1923c05123a6",
   "metadata": {},
   "outputs": [],
   "source": [
    "# from spacy.training import offsets_to_biluo_tags\n",
    "\n",
    "# def check_entity_alignment(nlp, text, entities):\n",
    "#     doc = nlp.make_doc(text)\n",
    "#     try:\n",
    "#         tags = offsets_to_biluo_tags(doc, entities)\n",
    "#         print(f\"Entities align correctly for text: '{text}'\")\n",
    "#     except ValueError as e:\n",
    "#         print(f\"Error in text: '{text}'\")\n",
    "#         print(str(e))\n"
   ]
  },
  {
   "cell_type": "code",
   "execution_count": 14,
   "id": "3948490b-fd96-46de-84b8-5767f0874f87",
   "metadata": {},
   "outputs": [],
   "source": [
    "# NUM_EPOCHS = 10\n",
    "\n",
    "# # Training Loop\n",
    "# for epoch in range(NUM_EPOCHS):\n",
    "#     random.shuffle(train_data)\n",
    "#     losses = {}\n",
    "#     for batch in minibatch(train_data, size=compounding(4.0, 32.0, 1.001)):\n",
    "#         examples = []\n",
    "#         for text, annotations in batch:\n",
    "#         #     check_entity_alignment(nlp, text, annotations)\n",
    "#         # break  \n",
    "#             doc = nlp.make_doc(text)\n",
    "#             examples.append(Example.from_dict(doc, annotations))\n",
    "            \n",
    "#         nlp.update(examples, drop=0.5, losses=losses)\n",
    "        \n",
    "#     print(f\"Epoch [{epoch+1}/{NUM_EPOCHS}]; Losses: {losses}\")\n",
    "    "
   ]
  },
  {
   "cell_type": "code",
   "execution_count": 15,
   "id": "4654223e-3f1f-4f07-9fc1-f5aca77d812b",
   "metadata": {},
   "outputs": [
    {
     "name": "stdout",
     "output_type": "stream",
     "text": [
      "Collecting nltk\n",
      "  Using cached nltk-3.8.1-py3-none-any.whl.metadata (2.8 kB)\n",
      "Collecting sklearn-crfsuite\n",
      "  Downloading sklearn_crfsuite-0.5.0-py2.py3-none-any.whl.metadata (4.9 kB)\n",
      "Requirement already satisfied: click in c:\\users\\user\\anaconda3\\envs\\torchtut\\lib\\site-packages (from nltk) (8.1.7)\n",
      "Requirement already satisfied: joblib in c:\\users\\user\\anaconda3\\envs\\torchtut\\lib\\site-packages (from nltk) (1.4.2)\n",
      "Requirement already satisfied: regex>=2021.8.3 in c:\\users\\user\\anaconda3\\envs\\torchtut\\lib\\site-packages (from nltk) (2024.5.15)\n",
      "Requirement already satisfied: tqdm in c:\\users\\user\\anaconda3\\envs\\torchtut\\lib\\site-packages (from nltk) (4.66.4)\n",
      "Collecting python-crfsuite>=0.9.7 (from sklearn-crfsuite)\n",
      "  Downloading python_crfsuite-0.9.10-cp312-cp312-win_amd64.whl.metadata (4.3 kB)\n",
      "Requirement already satisfied: scikit-learn>=0.24.0 in c:\\users\\user\\anaconda3\\envs\\torchtut\\lib\\site-packages (from sklearn-crfsuite) (1.5.0)\n",
      "Collecting tabulate>=0.4.2 (from sklearn-crfsuite)\n",
      "  Downloading tabulate-0.9.0-py3-none-any.whl.metadata (34 kB)\n",
      "Requirement already satisfied: numpy>=1.19.5 in c:\\users\\user\\anaconda3\\envs\\torchtut\\lib\\site-packages (from scikit-learn>=0.24.0->sklearn-crfsuite) (1.26.4)\n",
      "Requirement already satisfied: scipy>=1.6.0 in c:\\users\\user\\anaconda3\\envs\\torchtut\\lib\\site-packages (from scikit-learn>=0.24.0->sklearn-crfsuite) (1.13.1)\n",
      "Requirement already satisfied: threadpoolctl>=3.1.0 in c:\\users\\user\\anaconda3\\envs\\torchtut\\lib\\site-packages (from scikit-learn>=0.24.0->sklearn-crfsuite) (3.5.0)\n",
      "Requirement already satisfied: colorama in c:\\users\\user\\appdata\\roaming\\python\\python312\\site-packages (from tqdm->nltk) (0.4.6)\n",
      "Using cached nltk-3.8.1-py3-none-any.whl (1.5 MB)\n",
      "Downloading sklearn_crfsuite-0.5.0-py2.py3-none-any.whl (10 kB)\n",
      "Downloading python_crfsuite-0.9.10-cp312-cp312-win_amd64.whl (154 kB)\n",
      "   ---------------------------------------- 0.0/154.7 kB ? eta -:--:--\n",
      "   ---------------------------------------- 154.7/154.7 kB 4.7 MB/s eta 0:00:00\n",
      "Downloading tabulate-0.9.0-py3-none-any.whl (35 kB)\n",
      "Installing collected packages: python-crfsuite, tabulate, nltk, sklearn-crfsuite\n",
      "Successfully installed nltk-3.8.1 python-crfsuite-0.9.10 sklearn-crfsuite-0.5.0 tabulate-0.9.0\n"
     ]
    }
   ],
   "source": [
    "!pip install nltk sklearn-crfsuite"
   ]
  },
  {
   "cell_type": "code",
   "execution_count": 116,
   "id": "f833045f-865f-46cf-9224-d9c3e8edfae5",
   "metadata": {},
   "outputs": [],
   "source": [
    "import nltk\n",
    "# import sk"
   ]
  },
  {
   "cell_type": "code",
   "execution_count": 117,
   "id": "9f1e44f7-0dfe-4213-b3a0-df5e4937a7fe",
   "metadata": {},
   "outputs": [],
   "source": [
    "def convert_to_conll(df):\n",
    "    conll_format = []\n",
    "    for _, row in df.iterrows():\n",
    "        text = row['features']\n",
    "        entities = row['labels']\n",
    "        tokens = nltk.word_tokenize(text)\n",
    "        token_start_indices = []\n",
    "        current_index = 0\n",
    "\n",
    "        for token in tokens:\n",
    "            current_index = text.find(token, current_index)\n",
    "            token_start_indices.append(current_index)\n",
    "            current_index += len(token)\n",
    "        token_end_indices = [start+len(token) for start, token in zip(token_start_indices, tokens)]\n",
    "        labels = ['O']*len(tokens)\n",
    "\n",
    "        for start_char, end_char, label in entities:\n",
    "            # print(start_char, end_char, label)\n",
    "            for i, (start, end) in enumerate(zip(token_start_indices, token_end_indices)):\n",
    "                if start_char <= start < end_char or start_char < end <= end_char:\n",
    "                    labels[i] = label\n",
    "\n",
    "        for token, label in zip(tokens, labels):\n",
    "            conll_format.append((token, label))\n",
    "        conll_format.append((\"\", \"\")) # Add an empty line to separate sentences\n",
    "        # print(\"Tokens:\", tokens)\n",
    "        # print(\"Token Start Indices:\", token_start_indices)\n",
    "        # print(\"Token End Indices:\", token_end_indices)\n",
    "        # print(\"Labels:\", labels)\n",
    "\n",
    "    return conll_format\n",
    "        "
   ]
  },
  {
   "cell_type": "code",
   "execution_count": 118,
   "id": "08664e16-64e2-4272-b329-8775c94cb9cc",
   "metadata": {},
   "outputs": [],
   "source": [
    "train_data_conll = convert_to_conll(df)"
   ]
  },
  {
   "cell_type": "code",
   "execution_count": 61,
   "id": "8f1da6a0-1988-466c-842c-d39a1cf54f99",
   "metadata": {},
   "outputs": [
    {
     "data": {
      "text/plain": [
       "[('Nguyen-Medina', 'PARTY_A'),\n",
       " ('agrees', 'O'),\n",
       " ('to', 'O'),\n",
       " ('provide', 'O'),\n",
       " ('the', 'O')]"
      ]
     },
     "execution_count": 61,
     "metadata": {},
     "output_type": "execute_result"
    }
   ],
   "source": [
    "train_data_conll[:5]"
   ]
  },
  {
   "cell_type": "code",
   "execution_count": 119,
   "id": "4e40b6bb-af5f-46ab-beac-62c222a23b21",
   "metadata": {},
   "outputs": [],
   "source": [
    "# Save to file (if needed )\n",
    "with open(\"train_data.conll\", \"w\") as f :\n",
    "    for token, label in train_data_conll:\n",
    "        if token:\n",
    "            f.write(f\"{token} {label}\\n\")\n",
    "        else:\n",
    "            f.write(\"\\n\")"
   ]
  },
  {
   "cell_type": "markdown",
   "id": "8f62f82f-45f4-4dfd-8685-9191dd17eafb",
   "metadata": {},
   "source": [
    "# Step 2: Create Training and Testing Data"
   ]
  },
  {
   "cell_type": "code",
   "execution_count": 120,
   "id": "03ed5bc3-a276-4054-bd09-89d8f8b66cc0",
   "metadata": {},
   "outputs": [],
   "source": [
    "# Read the data \n",
    "def read_conll(file_path):\n",
    "    data = []\n",
    "    sentence = []\n",
    "    with open(file_path, \"r\") as f:\n",
    "        for line in f:\n",
    "            if line.strip():\n",
    "                token, label = line.strip().split()\n",
    "                sentence.append((token, label))\n",
    "            else:\n",
    "                if sentence:\n",
    "                    data.append(sentence)\n",
    "                    sentence = []\n",
    "    if sentence:\n",
    "        data.append(sentence)\n",
    "    return data"
   ]
  },
  {
   "cell_type": "code",
   "execution_count": null,
   "id": "ea1c627a-3104-493e-8a45-e0687a02d2f6",
   "metadata": {},
   "outputs": [],
   "source": [
    "train_sents = read_conll(\"train_data.conll\")\n",
    "train_sents"
   ]
  },
  {
   "cell_type": "markdown",
   "id": "0e601e90-25b6-4912-a43c-b90dac04ae38",
   "metadata": {},
   "source": [
    "# Step 3: Feature Extraction"
   ]
  },
  {
   "cell_type": "code",
   "execution_count": 122,
   "id": "2326e6f7-4f90-46bb-9587-36e83ed8b00f",
   "metadata": {},
   "outputs": [],
   "source": [
    "def word2features(sent, i):\n",
    "    word:str = sent[i][0]\n",
    "    features = {\n",
    "        'bias':1.0,\n",
    "        'word.lower()':word.lower(),\n",
    "        'word[-3:]':word[-3:],\n",
    "        'word[-2:]':word[-2:],\n",
    "        'word.isupper()':word.isupper(),\n",
    "        'word.istitle()':word.istitle(),\n",
    "        'word.isdigit()':word.isdigit()\n",
    "    }\n",
    "    if i>0:\n",
    "        word1:str = sent[i-1][0]\n",
    "        features.update({\n",
    "            '-1:word.lower()':word1.lower(),\n",
    "            '-1:word.istitle()': word1.istitle(),\n",
    "            '-1:word.isupper()': word1.isupper(),\n",
    "        })\n",
    "    else:\n",
    "        features['BOS'] = True\n",
    "\n",
    "\n",
    "    if i < len(sent)-1:\n",
    "        word1:str = sent[i+1][0]\n",
    "        features.update({\n",
    "            '+1:word.lower()': word1.lower(),\n",
    "            '+1:word.istitle()': word1.istitle(),\n",
    "            '+1:word.isupper()': word1.isupper(),\n",
    "        })\n",
    "    else:\n",
    "        features['EOS'] = True\n",
    "\n",
    "    return features"
   ]
  },
  {
   "cell_type": "code",
   "execution_count": 123,
   "id": "eaff206d-8397-4372-81c7-bfa98464e058",
   "metadata": {},
   "outputs": [],
   "source": [
    "def sent2feature(sent):\n",
    "    return [word2features(sent, i) for i in range(len(sent))]\n",
    "\n",
    "def sent2label(sent):\n",
    "    return [label for token, label in sent]\n",
    "\n",
    "def sent2tokens(sent):\n",
    "    return [token for token, label in sent]"
   ]
  },
  {
   "cell_type": "code",
   "execution_count": 124,
   "id": "27533e27-c8eb-4ff7-9903-6767d1b697b1",
   "metadata": {},
   "outputs": [],
   "source": [
    "# Prepare the data\n",
    "X_train = [sent2feature(s) for s in train_sents]\n",
    "y_train = [sent2label(s) for s in train_sents]"
   ]
  },
  {
   "cell_type": "code",
   "execution_count": 125,
   "id": "df432cce-5c62-4ed7-b4f6-2efc94b5e418",
   "metadata": {},
   "outputs": [
    {
     "data": {
      "text/plain": [
       "{'bias': 1.0,\n",
       " 'word.lower()': 'sanchez-buckley',\n",
       " 'word[-3:]': 'ley',\n",
       " 'word[-2:]': 'ey',\n",
       " 'word.isupper()': False,\n",
       " 'word.istitle()': True,\n",
       " 'word.isdigit()': False,\n",
       " 'BOS': True,\n",
       " '+1:word.lower()': 'agrees',\n",
       " '+1:word.istitle()': False,\n",
       " '+1:word.isupper()': False}"
      ]
     },
     "execution_count": 125,
     "metadata": {},
     "output_type": "execute_result"
    }
   ],
   "source": [
    "X_train[0][0]"
   ]
  },
  {
   "cell_type": "markdown",
   "id": "d57c74d2-9681-4f38-86f1-88303bb4a363",
   "metadata": {},
   "source": [
    "# Step 4: Train the CRF Model"
   ]
  },
  {
   "cell_type": "code",
   "execution_count": 126,
   "id": "c439f22e-72c3-4ce0-aea4-ff56682d8463",
   "metadata": {},
   "outputs": [
    {
     "data": {
      "text/html": [
       "<style>#sk-container-id-2 {\n",
       "  /* Definition of color scheme common for light and dark mode */\n",
       "  --sklearn-color-text: black;\n",
       "  --sklearn-color-line: gray;\n",
       "  /* Definition of color scheme for unfitted estimators */\n",
       "  --sklearn-color-unfitted-level-0: #fff5e6;\n",
       "  --sklearn-color-unfitted-level-1: #f6e4d2;\n",
       "  --sklearn-color-unfitted-level-2: #ffe0b3;\n",
       "  --sklearn-color-unfitted-level-3: chocolate;\n",
       "  /* Definition of color scheme for fitted estimators */\n",
       "  --sklearn-color-fitted-level-0: #f0f8ff;\n",
       "  --sklearn-color-fitted-level-1: #d4ebff;\n",
       "  --sklearn-color-fitted-level-2: #b3dbfd;\n",
       "  --sklearn-color-fitted-level-3: cornflowerblue;\n",
       "\n",
       "  /* Specific color for light theme */\n",
       "  --sklearn-color-text-on-default-background: var(--sg-text-color, var(--theme-code-foreground, var(--jp-content-font-color1, black)));\n",
       "  --sklearn-color-background: var(--sg-background-color, var(--theme-background, var(--jp-layout-color0, white)));\n",
       "  --sklearn-color-border-box: var(--sg-text-color, var(--theme-code-foreground, var(--jp-content-font-color1, black)));\n",
       "  --sklearn-color-icon: #696969;\n",
       "\n",
       "  @media (prefers-color-scheme: dark) {\n",
       "    /* Redefinition of color scheme for dark theme */\n",
       "    --sklearn-color-text-on-default-background: var(--sg-text-color, var(--theme-code-foreground, var(--jp-content-font-color1, white)));\n",
       "    --sklearn-color-background: var(--sg-background-color, var(--theme-background, var(--jp-layout-color0, #111)));\n",
       "    --sklearn-color-border-box: var(--sg-text-color, var(--theme-code-foreground, var(--jp-content-font-color1, white)));\n",
       "    --sklearn-color-icon: #878787;\n",
       "  }\n",
       "}\n",
       "\n",
       "#sk-container-id-2 {\n",
       "  color: var(--sklearn-color-text);\n",
       "}\n",
       "\n",
       "#sk-container-id-2 pre {\n",
       "  padding: 0;\n",
       "}\n",
       "\n",
       "#sk-container-id-2 input.sk-hidden--visually {\n",
       "  border: 0;\n",
       "  clip: rect(1px 1px 1px 1px);\n",
       "  clip: rect(1px, 1px, 1px, 1px);\n",
       "  height: 1px;\n",
       "  margin: -1px;\n",
       "  overflow: hidden;\n",
       "  padding: 0;\n",
       "  position: absolute;\n",
       "  width: 1px;\n",
       "}\n",
       "\n",
       "#sk-container-id-2 div.sk-dashed-wrapped {\n",
       "  border: 1px dashed var(--sklearn-color-line);\n",
       "  margin: 0 0.4em 0.5em 0.4em;\n",
       "  box-sizing: border-box;\n",
       "  padding-bottom: 0.4em;\n",
       "  background-color: var(--sklearn-color-background);\n",
       "}\n",
       "\n",
       "#sk-container-id-2 div.sk-container {\n",
       "  /* jupyter's `normalize.less` sets `[hidden] { display: none; }`\n",
       "     but bootstrap.min.css set `[hidden] { display: none !important; }`\n",
       "     so we also need the `!important` here to be able to override the\n",
       "     default hidden behavior on the sphinx rendered scikit-learn.org.\n",
       "     See: https://github.com/scikit-learn/scikit-learn/issues/21755 */\n",
       "  display: inline-block !important;\n",
       "  position: relative;\n",
       "}\n",
       "\n",
       "#sk-container-id-2 div.sk-text-repr-fallback {\n",
       "  display: none;\n",
       "}\n",
       "\n",
       "div.sk-parallel-item,\n",
       "div.sk-serial,\n",
       "div.sk-item {\n",
       "  /* draw centered vertical line to link estimators */\n",
       "  background-image: linear-gradient(var(--sklearn-color-text-on-default-background), var(--sklearn-color-text-on-default-background));\n",
       "  background-size: 2px 100%;\n",
       "  background-repeat: no-repeat;\n",
       "  background-position: center center;\n",
       "}\n",
       "\n",
       "/* Parallel-specific style estimator block */\n",
       "\n",
       "#sk-container-id-2 div.sk-parallel-item::after {\n",
       "  content: \"\";\n",
       "  width: 100%;\n",
       "  border-bottom: 2px solid var(--sklearn-color-text-on-default-background);\n",
       "  flex-grow: 1;\n",
       "}\n",
       "\n",
       "#sk-container-id-2 div.sk-parallel {\n",
       "  display: flex;\n",
       "  align-items: stretch;\n",
       "  justify-content: center;\n",
       "  background-color: var(--sklearn-color-background);\n",
       "  position: relative;\n",
       "}\n",
       "\n",
       "#sk-container-id-2 div.sk-parallel-item {\n",
       "  display: flex;\n",
       "  flex-direction: column;\n",
       "}\n",
       "\n",
       "#sk-container-id-2 div.sk-parallel-item:first-child::after {\n",
       "  align-self: flex-end;\n",
       "  width: 50%;\n",
       "}\n",
       "\n",
       "#sk-container-id-2 div.sk-parallel-item:last-child::after {\n",
       "  align-self: flex-start;\n",
       "  width: 50%;\n",
       "}\n",
       "\n",
       "#sk-container-id-2 div.sk-parallel-item:only-child::after {\n",
       "  width: 0;\n",
       "}\n",
       "\n",
       "/* Serial-specific style estimator block */\n",
       "\n",
       "#sk-container-id-2 div.sk-serial {\n",
       "  display: flex;\n",
       "  flex-direction: column;\n",
       "  align-items: center;\n",
       "  background-color: var(--sklearn-color-background);\n",
       "  padding-right: 1em;\n",
       "  padding-left: 1em;\n",
       "}\n",
       "\n",
       "\n",
       "/* Toggleable style: style used for estimator/Pipeline/ColumnTransformer box that is\n",
       "clickable and can be expanded/collapsed.\n",
       "- Pipeline and ColumnTransformer use this feature and define the default style\n",
       "- Estimators will overwrite some part of the style using the `sk-estimator` class\n",
       "*/\n",
       "\n",
       "/* Pipeline and ColumnTransformer style (default) */\n",
       "\n",
       "#sk-container-id-2 div.sk-toggleable {\n",
       "  /* Default theme specific background. It is overwritten whether we have a\n",
       "  specific estimator or a Pipeline/ColumnTransformer */\n",
       "  background-color: var(--sklearn-color-background);\n",
       "}\n",
       "\n",
       "/* Toggleable label */\n",
       "#sk-container-id-2 label.sk-toggleable__label {\n",
       "  cursor: pointer;\n",
       "  display: block;\n",
       "  width: 100%;\n",
       "  margin-bottom: 0;\n",
       "  padding: 0.5em;\n",
       "  box-sizing: border-box;\n",
       "  text-align: center;\n",
       "}\n",
       "\n",
       "#sk-container-id-2 label.sk-toggleable__label-arrow:before {\n",
       "  /* Arrow on the left of the label */\n",
       "  content: \"▸\";\n",
       "  float: left;\n",
       "  margin-right: 0.25em;\n",
       "  color: var(--sklearn-color-icon);\n",
       "}\n",
       "\n",
       "#sk-container-id-2 label.sk-toggleable__label-arrow:hover:before {\n",
       "  color: var(--sklearn-color-text);\n",
       "}\n",
       "\n",
       "/* Toggleable content - dropdown */\n",
       "\n",
       "#sk-container-id-2 div.sk-toggleable__content {\n",
       "  max-height: 0;\n",
       "  max-width: 0;\n",
       "  overflow: hidden;\n",
       "  text-align: left;\n",
       "  /* unfitted */\n",
       "  background-color: var(--sklearn-color-unfitted-level-0);\n",
       "}\n",
       "\n",
       "#sk-container-id-2 div.sk-toggleable__content.fitted {\n",
       "  /* fitted */\n",
       "  background-color: var(--sklearn-color-fitted-level-0);\n",
       "}\n",
       "\n",
       "#sk-container-id-2 div.sk-toggleable__content pre {\n",
       "  margin: 0.2em;\n",
       "  border-radius: 0.25em;\n",
       "  color: var(--sklearn-color-text);\n",
       "  /* unfitted */\n",
       "  background-color: var(--sklearn-color-unfitted-level-0);\n",
       "}\n",
       "\n",
       "#sk-container-id-2 div.sk-toggleable__content.fitted pre {\n",
       "  /* unfitted */\n",
       "  background-color: var(--sklearn-color-fitted-level-0);\n",
       "}\n",
       "\n",
       "#sk-container-id-2 input.sk-toggleable__control:checked~div.sk-toggleable__content {\n",
       "  /* Expand drop-down */\n",
       "  max-height: 200px;\n",
       "  max-width: 100%;\n",
       "  overflow: auto;\n",
       "}\n",
       "\n",
       "#sk-container-id-2 input.sk-toggleable__control:checked~label.sk-toggleable__label-arrow:before {\n",
       "  content: \"▾\";\n",
       "}\n",
       "\n",
       "/* Pipeline/ColumnTransformer-specific style */\n",
       "\n",
       "#sk-container-id-2 div.sk-label input.sk-toggleable__control:checked~label.sk-toggleable__label {\n",
       "  color: var(--sklearn-color-text);\n",
       "  background-color: var(--sklearn-color-unfitted-level-2);\n",
       "}\n",
       "\n",
       "#sk-container-id-2 div.sk-label.fitted input.sk-toggleable__control:checked~label.sk-toggleable__label {\n",
       "  background-color: var(--sklearn-color-fitted-level-2);\n",
       "}\n",
       "\n",
       "/* Estimator-specific style */\n",
       "\n",
       "/* Colorize estimator box */\n",
       "#sk-container-id-2 div.sk-estimator input.sk-toggleable__control:checked~label.sk-toggleable__label {\n",
       "  /* unfitted */\n",
       "  background-color: var(--sklearn-color-unfitted-level-2);\n",
       "}\n",
       "\n",
       "#sk-container-id-2 div.sk-estimator.fitted input.sk-toggleable__control:checked~label.sk-toggleable__label {\n",
       "  /* fitted */\n",
       "  background-color: var(--sklearn-color-fitted-level-2);\n",
       "}\n",
       "\n",
       "#sk-container-id-2 div.sk-label label.sk-toggleable__label,\n",
       "#sk-container-id-2 div.sk-label label {\n",
       "  /* The background is the default theme color */\n",
       "  color: var(--sklearn-color-text-on-default-background);\n",
       "}\n",
       "\n",
       "/* On hover, darken the color of the background */\n",
       "#sk-container-id-2 div.sk-label:hover label.sk-toggleable__label {\n",
       "  color: var(--sklearn-color-text);\n",
       "  background-color: var(--sklearn-color-unfitted-level-2);\n",
       "}\n",
       "\n",
       "/* Label box, darken color on hover, fitted */\n",
       "#sk-container-id-2 div.sk-label.fitted:hover label.sk-toggleable__label.fitted {\n",
       "  color: var(--sklearn-color-text);\n",
       "  background-color: var(--sklearn-color-fitted-level-2);\n",
       "}\n",
       "\n",
       "/* Estimator label */\n",
       "\n",
       "#sk-container-id-2 div.sk-label label {\n",
       "  font-family: monospace;\n",
       "  font-weight: bold;\n",
       "  display: inline-block;\n",
       "  line-height: 1.2em;\n",
       "}\n",
       "\n",
       "#sk-container-id-2 div.sk-label-container {\n",
       "  text-align: center;\n",
       "}\n",
       "\n",
       "/* Estimator-specific */\n",
       "#sk-container-id-2 div.sk-estimator {\n",
       "  font-family: monospace;\n",
       "  border: 1px dotted var(--sklearn-color-border-box);\n",
       "  border-radius: 0.25em;\n",
       "  box-sizing: border-box;\n",
       "  margin-bottom: 0.5em;\n",
       "  /* unfitted */\n",
       "  background-color: var(--sklearn-color-unfitted-level-0);\n",
       "}\n",
       "\n",
       "#sk-container-id-2 div.sk-estimator.fitted {\n",
       "  /* fitted */\n",
       "  background-color: var(--sklearn-color-fitted-level-0);\n",
       "}\n",
       "\n",
       "/* on hover */\n",
       "#sk-container-id-2 div.sk-estimator:hover {\n",
       "  /* unfitted */\n",
       "  background-color: var(--sklearn-color-unfitted-level-2);\n",
       "}\n",
       "\n",
       "#sk-container-id-2 div.sk-estimator.fitted:hover {\n",
       "  /* fitted */\n",
       "  background-color: var(--sklearn-color-fitted-level-2);\n",
       "}\n",
       "\n",
       "/* Specification for estimator info (e.g. \"i\" and \"?\") */\n",
       "\n",
       "/* Common style for \"i\" and \"?\" */\n",
       "\n",
       ".sk-estimator-doc-link,\n",
       "a:link.sk-estimator-doc-link,\n",
       "a:visited.sk-estimator-doc-link {\n",
       "  float: right;\n",
       "  font-size: smaller;\n",
       "  line-height: 1em;\n",
       "  font-family: monospace;\n",
       "  background-color: var(--sklearn-color-background);\n",
       "  border-radius: 1em;\n",
       "  height: 1em;\n",
       "  width: 1em;\n",
       "  text-decoration: none !important;\n",
       "  margin-left: 1ex;\n",
       "  /* unfitted */\n",
       "  border: var(--sklearn-color-unfitted-level-1) 1pt solid;\n",
       "  color: var(--sklearn-color-unfitted-level-1);\n",
       "}\n",
       "\n",
       ".sk-estimator-doc-link.fitted,\n",
       "a:link.sk-estimator-doc-link.fitted,\n",
       "a:visited.sk-estimator-doc-link.fitted {\n",
       "  /* fitted */\n",
       "  border: var(--sklearn-color-fitted-level-1) 1pt solid;\n",
       "  color: var(--sklearn-color-fitted-level-1);\n",
       "}\n",
       "\n",
       "/* On hover */\n",
       "div.sk-estimator:hover .sk-estimator-doc-link:hover,\n",
       ".sk-estimator-doc-link:hover,\n",
       "div.sk-label-container:hover .sk-estimator-doc-link:hover,\n",
       ".sk-estimator-doc-link:hover {\n",
       "  /* unfitted */\n",
       "  background-color: var(--sklearn-color-unfitted-level-3);\n",
       "  color: var(--sklearn-color-background);\n",
       "  text-decoration: none;\n",
       "}\n",
       "\n",
       "div.sk-estimator.fitted:hover .sk-estimator-doc-link.fitted:hover,\n",
       ".sk-estimator-doc-link.fitted:hover,\n",
       "div.sk-label-container:hover .sk-estimator-doc-link.fitted:hover,\n",
       ".sk-estimator-doc-link.fitted:hover {\n",
       "  /* fitted */\n",
       "  background-color: var(--sklearn-color-fitted-level-3);\n",
       "  color: var(--sklearn-color-background);\n",
       "  text-decoration: none;\n",
       "}\n",
       "\n",
       "/* Span, style for the box shown on hovering the info icon */\n",
       ".sk-estimator-doc-link span {\n",
       "  display: none;\n",
       "  z-index: 9999;\n",
       "  position: relative;\n",
       "  font-weight: normal;\n",
       "  right: .2ex;\n",
       "  padding: .5ex;\n",
       "  margin: .5ex;\n",
       "  width: min-content;\n",
       "  min-width: 20ex;\n",
       "  max-width: 50ex;\n",
       "  color: var(--sklearn-color-text);\n",
       "  box-shadow: 2pt 2pt 4pt #999;\n",
       "  /* unfitted */\n",
       "  background: var(--sklearn-color-unfitted-level-0);\n",
       "  border: .5pt solid var(--sklearn-color-unfitted-level-3);\n",
       "}\n",
       "\n",
       ".sk-estimator-doc-link.fitted span {\n",
       "  /* fitted */\n",
       "  background: var(--sklearn-color-fitted-level-0);\n",
       "  border: var(--sklearn-color-fitted-level-3);\n",
       "}\n",
       "\n",
       ".sk-estimator-doc-link:hover span {\n",
       "  display: block;\n",
       "}\n",
       "\n",
       "/* \"?\"-specific style due to the `<a>` HTML tag */\n",
       "\n",
       "#sk-container-id-2 a.estimator_doc_link {\n",
       "  float: right;\n",
       "  font-size: 1rem;\n",
       "  line-height: 1em;\n",
       "  font-family: monospace;\n",
       "  background-color: var(--sklearn-color-background);\n",
       "  border-radius: 1rem;\n",
       "  height: 1rem;\n",
       "  width: 1rem;\n",
       "  text-decoration: none;\n",
       "  /* unfitted */\n",
       "  color: var(--sklearn-color-unfitted-level-1);\n",
       "  border: var(--sklearn-color-unfitted-level-1) 1pt solid;\n",
       "}\n",
       "\n",
       "#sk-container-id-2 a.estimator_doc_link.fitted {\n",
       "  /* fitted */\n",
       "  border: var(--sklearn-color-fitted-level-1) 1pt solid;\n",
       "  color: var(--sklearn-color-fitted-level-1);\n",
       "}\n",
       "\n",
       "/* On hover */\n",
       "#sk-container-id-2 a.estimator_doc_link:hover {\n",
       "  /* unfitted */\n",
       "  background-color: var(--sklearn-color-unfitted-level-3);\n",
       "  color: var(--sklearn-color-background);\n",
       "  text-decoration: none;\n",
       "}\n",
       "\n",
       "#sk-container-id-2 a.estimator_doc_link.fitted:hover {\n",
       "  /* fitted */\n",
       "  background-color: var(--sklearn-color-fitted-level-3);\n",
       "}\n",
       "</style><div id=\"sk-container-id-2\" class=\"sk-top-container\"><div class=\"sk-text-repr-fallback\"><pre>CRF(algorithm=&#x27;lbfgs&#x27;, all_possible_transitions=True, c1=0.1, c2=0.1,\n",
       "    max_iterations=100)</pre><b>In a Jupyter environment, please rerun this cell to show the HTML representation or trust the notebook. <br />On GitHub, the HTML representation is unable to render, please try loading this page with nbviewer.org.</b></div><div class=\"sk-container\" hidden><div class=\"sk-item\"><div class=\"sk-estimator fitted sk-toggleable\"><input class=\"sk-toggleable__control sk-hidden--visually\" id=\"sk-estimator-id-2\" type=\"checkbox\" checked><label for=\"sk-estimator-id-2\" class=\"sk-toggleable__label fitted sk-toggleable__label-arrow fitted\">&nbsp;CRF<span class=\"sk-estimator-doc-link fitted\">i<span>Fitted</span></span></label><div class=\"sk-toggleable__content fitted\"><pre>CRF(algorithm=&#x27;lbfgs&#x27;, all_possible_transitions=True, c1=0.1, c2=0.1,\n",
       "    max_iterations=100)</pre></div> </div></div></div></div>"
      ],
      "text/plain": [
       "CRF(algorithm='lbfgs', all_possible_transitions=True, c1=0.1, c2=0.1,\n",
       "    max_iterations=100)"
      ]
     },
     "execution_count": 126,
     "metadata": {},
     "output_type": "execute_result"
    }
   ],
   "source": [
    "import sklearn_crfsuite\n",
    "\n",
    "# Train the CRF Model\n",
    "crf = sklearn_crfsuite.CRF(\n",
    "    algorithm='lbfgs',\n",
    "    c1=0.1,\n",
    "    c2=0.1,\n",
    "    max_iterations=100,\n",
    "    all_possible_transitions=True\n",
    ")\n",
    "\n",
    "crf.fit(X_train, y_train)\n"
   ]
  },
  {
   "cell_type": "code",
   "execution_count": 128,
   "id": "37c21f50-f5a7-41b7-8558-980b622a8f16",
   "metadata": {},
   "outputs": [
    {
     "data": {
      "text/plain": [
       "['crf_ner_model_v1.pkl']"
      ]
     },
     "execution_count": 128,
     "metadata": {},
     "output_type": "execute_result"
    }
   ],
   "source": [
    "# Save the model\n",
    "import joblib\n",
    "joblib.dump(crf, \"crf_ner_model_v1.pkl\")"
   ]
  },
  {
   "cell_type": "code",
   "execution_count": 129,
   "id": "d33c584b-3405-460f-8325-2ca160f37902",
   "metadata": {},
   "outputs": [],
   "source": [
    "# Load the model\n",
    "crf = joblib.load(\"crf_ner_model_v1.pkl\")"
   ]
  },
  {
   "cell_type": "code",
   "execution_count": 100,
   "id": "2544d0b6-487b-4e0c-be3e-c1accacf4774",
   "metadata": {},
   "outputs": [
    {
     "name": "stdout",
     "output_type": "stream",
     "text": [
      "Either O\n",
      "party O\n",
      "may O\n",
      "terminate O\n",
      "this O\n",
      "contract O\n",
      "with O\n",
      "190 NOTICE_DAYS\n",
      "days O\n",
      "written O\n",
      "notice O\n",
      "to O\n",
      "the O\n",
      "other O\n",
      "party O\n",
      ". O\n",
      "In O\n",
      "the O\n",
      "event O\n",
      "of O\n",
      "termination O\n",
      ", O\n",
      "Farooq PARTY_A\n",
      "will O\n",
      "be O\n",
      "compensated O\n",
      "for O\n",
      "all O\n",
      "services O\n",
      "performed O\n",
      "up O\n",
      "to O\n",
      "the O\n",
      "date O\n",
      "of O\n",
      "termination O\n",
      ". O\n"
     ]
    }
   ],
   "source": [
    "# Test the model \n",
    "test_text = \"Either party may terminate this contract with 190 days written notice to the other party. In the event of termination, Farooq will be compensated for all services performed up to the date of termination.\"\n",
    "test_tokens = nltk.word_tokenize(test_text)\n",
    "test_features = [word2features([(token, \"O\") for token in test_tokens], i) for i in range(len(test_tokens))]\n",
    "y_pred = crf.predict_single(test_features)\n",
    "\n",
    "# Print the entities\n",
    "for token, label in zip(test_tokens, y_pred):\n",
    "    print(token, label)"
   ]
  },
  {
   "cell_type": "markdown",
   "id": "98b1eeb6-d892-41ee-aa1b-31055e937996",
   "metadata": {},
   "source": [
    "# filtering the titles"
   ]
  },
  {
   "cell_type": "code",
   "execution_count": 111,
   "id": "7fdcaf44-a500-4f42-b8d5-7235aa7ba70a",
   "metadata": {},
   "outputs": [],
   "source": [
    "import re\n",
    "\n",
    "text = \"4 . Confidentiality :\"\n",
    "\n",
    "# Define the regex pattern to match \"1. AnyCharacters:\"\n",
    "pattern = r\"1\\.\\s*([\\w\\s]+):\""
   ]
  },
  {
   "cell_type": "code",
   "execution_count": 112,
   "id": "c6267115-7f2d-49a7-afd6-66789894b101",
   "metadata": {},
   "outputs": [],
   "source": [
    "re.search(pattern, text)"
   ]
  },
  {
   "cell_type": "code",
   "execution_count": null,
   "id": "7aee7eb8-a592-470f-a336-cf96db993f5e",
   "metadata": {},
   "outputs": [],
   "source": []
  }
 ],
 "metadata": {
  "kernelspec": {
   "display_name": "Python 3 (ipykernel)",
   "language": "python",
   "name": "python3"
  },
  "language_info": {
   "codemirror_mode": {
    "name": "ipython",
    "version": 3
   },
   "file_extension": ".py",
   "mimetype": "text/x-python",
   "name": "python",
   "nbconvert_exporter": "python",
   "pygments_lexer": "ipython3",
   "version": "3.12.3"
  }
 },
 "nbformat": 4,
 "nbformat_minor": 5
}
